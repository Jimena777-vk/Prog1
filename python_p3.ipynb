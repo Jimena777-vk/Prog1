{
 "cells": [
  {
   "attachments": {},
   "cell_type": "markdown",
   "metadata": {},
   "source": [
    "# Caso de estudio: Selección de la estructura de datos\n",
    "En este punto has aprendido sobre las estructuras de datos centrales de Python, y has visto algunos de los algoritmos que las utilizan.\n",
    "\n",
    "Este tema presenta el estudio de un caso con ejercicios que te permiten pensar en la elección de estructuras de datos y practicar su uso.\n",
    "\n",
    "## Análisis de frecuencia de palabras\n",
    "\n",
    "### Ejercicio P3-1.\n",
    "Escribe un programa que lea un archivo, rompa cada línea en palabras, elimine los espacios en blanco y la puntuación de las palabras, y las convierta en minúsculas.\n",
    "\n",
    "Sugerencia: El módulo _string_ proporciona una cadena llamada *whitespace*, que contiene el espacio, el tabulador, nueva línea, etc., y *punctuation* que contiene los caracteres de puntuación. Veamos si podemos hacer que Python \"jure como en los comics\":"
   ]
  },
  {
   "cell_type": "code",
   "execution_count": 2,
   "metadata": {},
   "outputs": [
    {
     "data": {
      "text/plain": [
       "' \\t\\n\\r\\x0b\\x0c'"
      ]
     },
     "execution_count": 2,
     "metadata": {},
     "output_type": "execute_result"
    }
   ],
   "source": [
    "import string\n",
    "string.punctuation\n",
    "string.whitespace"
   ]
  },
  {
   "attachments": {},
   "cell_type": "markdown",
   "metadata": {},
   "source": [
    "¡Pues sí, es un juramento propio de un comic!\n",
    "\n",
    "También, debes considerar el uso de los métodos de cadenas para quitar, reemplazar y traducir."
   ]
  },
  {
   "cell_type": "code",
   "execution_count": null,
   "metadata": {
    "scrolled": false
   },
   "outputs": [],
   "source": [
    "f_in = open('quijote.txt')\n",
    "f_in"
   ]
  },
  {
   "attachments": {},
   "cell_type": "markdown",
   "metadata": {},
   "source": [
    "### Ejercicio P3-2.\n",
    "Debes usar el fichero con El Quijote en texto plano que se proporciona. Debes realizar los cálculos sobre este fichero.\n",
    "\n",
    "Si lo necesitas, modifica el programa del ejercicio anterior para leer El Quijote.\n",
    "\n",
    "Luego modifica el programa para contar el número total de palabras del libro y el número de veces que se usa cada palabra.\n",
    "\n",
    "Imprime el número de palabras diferentes que se usan en el libro así como el porcentaje de uso de la 50 palabras más usadas."
   ]
  },
  {
   "cell_type": "code",
   "execution_count": null,
   "metadata": {},
   "outputs": [],
   "source": []
  },
  {
   "attachments": {},
   "cell_type": "markdown",
   "metadata": {},
   "source": [
    "### Ejercicio P3-3.\n",
    "Modifica el programa del ejercicio anterior para imprimir las 20 palabras más usadas en el libro y su frecuencia (en tanto por 1000) de uso."
   ]
  },
  {
   "cell_type": "code",
   "execution_count": null,
   "metadata": {},
   "outputs": [],
   "source": []
  },
  {
   "attachments": {},
   "cell_type": "markdown",
   "metadata": {},
   "source": [
    "### Ejercicio P3-4.\n",
    "Compara diferentes libros de diferentes autores; escritos en diferentes épocas; si es prosa, verso, ensayo, etc.; idioma; o cualquier otra característica que se te ocurra. Puedes tener en cuenta el número de palabras utilizadas, su frecuencia u otra característica que se te ocurra. Una vez que tengas los resultados puedes responder a preguntas como: ¿qué autor utiliza el vocabulario más extenso?, ¿hay alguna diferencia clara entre épocas?, ¿hay diferencias entre idiomas? o preguntas que se te ocurra hacerte. Responde a estas preguntas y las que se te ocurra como respuesta a este problema. Debes buscar algunos libros en texto plano.\n",
    "\n",
    "En la celda que empiza con \"Respuesta a las preguntas\" debes dar todas las explicaciones que puedas dar a las preguntas realizadas."
   ]
  },
  {
   "cell_type": "code",
   "execution_count": null,
   "metadata": {},
   "outputs": [],
   "source": []
  },
  {
   "attachments": {},
   "cell_type": "markdown",
   "metadata": {},
   "source": [
    "Respuesta a las preguntas:"
   ]
  },
  {
   "attachments": {},
   "cell_type": "markdown",
   "metadata": {},
   "source": [
    "### Ejercicio P3-5.\n",
    "Modifica las funciones anteriores para que lean una lista de palabras (ver \"Lectura de listas de palabras\") y luego imprime todas las palabras El Quijote que no están en la lista de palabras. ¿Cuántas de ellas son errores tipográficos? ¿Cuántas de ellas son palabras comunes que deberían estar en la lista de palabras, y cuántas de ellas son realmente extrañas? (Dispones de una lista de palabras en español en el fichero \"palabras.txt\") de un notebook anterior."
   ]
  },
  {
   "cell_type": "code",
   "execution_count": null,
   "metadata": {
    "scrolled": false
   },
   "outputs": [],
   "source": []
  },
  {
   "attachments": {},
   "cell_type": "markdown",
   "metadata": {},
   "source": [
    "## Números aleatorios\n",
    "Dadas las mismas entradas, la mayoría de los programas de ordenador generan las mismas salidas cada vez, por lo que se dice que son **deterministas**. El determinismo suele ser algo bueno, ya que esperamos que el mismo cálculo produzca el mismo resultado. Para algunas aplicaciones, sin embargo, queremos que el ordenador sea impredecible. Los juegos son un ejemplo obvio, pero hay más.\n",
    "\n",
    "Hacer que un programa  sea verdaderamente no determinista resulta difícil, pero hay maneras de hacer que al menos parezca no determinista. Una de ellas es usar algoritmos que generen números **pseudoaleatorios**. Los números pseudoaleatorios no son verdaderamente aleatorios porque son generados por un cálculo determinista, pero con sólo mirar los números es casi imposible distinguirlos del azar.\n",
    "\n",
    "El módulo aleatorio proporciona funciones que generan números pseudoaleatorios (que de ahora en adelante llamaré simplemente \"aleatorios\").\n",
    "\n",
    "La función *random* devuelve un número flotante aleatorio entre 0.0 y 1.0 (incluyendo 0.0 pero no 1.0). Cada vez que llamas a *random*, obtienes el siguiente número en una larga serie. Para ver una muestra, ejecuta este bucle:"
   ]
  },
  {
   "cell_type": "code",
   "execution_count": null,
   "metadata": {},
   "outputs": [],
   "source": [
    "import random\n",
    "for i in range(10):\n",
    "    x = random.random()\n",
    "    print(x)"
   ]
  },
  {
   "attachments": {},
   "cell_type": "markdown",
   "metadata": {},
   "source": [
    "La función *randint* toma los parámetros low y high y devuelve un entero entre low y high (incluyendo ambos):"
   ]
  },
  {
   "cell_type": "code",
   "execution_count": null,
   "metadata": {},
   "outputs": [],
   "source": [
    "a = random.randint(5, 10)\n",
    "b = random.randint(5, 10)\n",
    "\n",
    "print (a,b)"
   ]
  },
  {
   "attachments": {},
   "cell_type": "markdown",
   "metadata": {},
   "source": [
    "Para elegir un elemento de una secuencia al azar, puedes utilizar *choice*:"
   ]
  },
  {
   "cell_type": "code",
   "execution_count": null,
   "metadata": {},
   "outputs": [],
   "source": [
    "t = [1, 7, 5, 9, 6, 3]\n",
    "print(random.choice(t))\n",
    "print(random.choice(t))"
   ]
  },
  {
   "attachments": {},
   "cell_type": "markdown",
   "metadata": {},
   "source": [
    "El módulo *random* también proporciona funciones para generar valores aleatorios a partir de distribuciones continuas, incluyendo Gaussian, exponencial, gamma y algunas más.\n",
    "\n",
    "### Ejercicio P3-6.\n",
    "Escribe una función llamada *choose_from_hist* que recibe un histograma como se define en \"Dictionarios como colección de contadores\" y devuelve un valor aleatorio del histograma, elegido con probabilidad en proporción a la frecuencia. Por ejemplo, para este histograma:"
   ]
  },
  {
   "cell_type": "code",
   "execution_count": null,
   "metadata": {},
   "outputs": [],
   "source": [
    "def histogram(s):\n",
    "    d = dict()\n",
    "    for c in s:\n",
    "        d[c] = d.get(c,0) + 1\n",
    "    return d\n",
    "\n",
    "t = ['a', 'a', 'b']\n",
    "hist = histogram(t)\n",
    "print(hist)"
   ]
  },
  {
   "attachments": {},
   "cell_type": "markdown",
   "metadata": {},
   "source": [
    "tu función debería devolver 'a' con probabilidad 2/3 y 'b' con probabilidad 1/3."
   ]
  },
  {
   "attachments": {},
   "cell_type": "markdown",
   "metadata": {},
   "source": [
    "## Parámetros opcionales\n",
    "Hemos visto funciones y métodos incorporados que toman argumentos opcionales. También es posible escribir funciones definidas por el programador con argumentos opcionales. Por ejemplo, aquí hay una función que imprime las palabras más comunes en un histograma (tienes que tener creada la función *most_common* en un ejercicio anterior para que funcione el ejemplo):"
   ]
  },
  {
   "cell_type": "code",
   "execution_count": null,
   "metadata": {},
   "outputs": [],
   "source": [
    "def print_most_common(hist, num=10):\n",
    "    t = most_common(hist)\n",
    "    print('The most common words are:')\n",
    "    for freq, word in t[:num]:\n",
    "        print(word, freq, sep='\\t')"
   ]
  },
  {
   "attachments": {},
   "cell_type": "markdown",
   "metadata": {},
   "source": [
    "El primer parámetro es obligatorio; el segundo es opcional. El **valor por defecto** de num es 10.\n",
    "\n",
    "Si sólo das un argumento:"
   ]
  },
  {
   "cell_type": "code",
   "execution_count": null,
   "metadata": {},
   "outputs": [],
   "source": [
    "print_most_common(hist)"
   ]
  },
  {
   "attachments": {},
   "cell_type": "markdown",
   "metadata": {},
   "source": [
    "*num* tiene el valor por defecto. Si das dos argumentos:"
   ]
  },
  {
   "attachments": {},
   "cell_type": "markdown",
   "metadata": {},
   "source": [
    "print_most_common(hist, 5)"
   ]
  },
  {
   "attachments": {},
   "cell_type": "markdown",
   "metadata": {},
   "source": [
    "*num* obtiene el valor del argumento en su lugar. En otras palabras, el argumento opcional **anula** el valor por defecto.\n",
    "\n",
    "Si una función tiene parámetros obligatorios y opcionales, todos los parámetros obligatorios deben estar en primer lugar, seguidos de los opcionales.\n",
    "\n",
    "## Subtracción de diccionarios\n",
    "Encontrar las palabras del libro que no están en la lista de palabras de palabras.txt es un problema que puedes reconocer como resta de un conjunto sobre otro; es decir, queremos encontrar todas las palabras de un conjunto (las palabras del libro) que no están en el otro (las palabras de la lista).\n",
    "\n",
    "*substract* toma los diccionarios d1 y d2 y devuelve un nuevo diccionario que contiene todas las claves de d1 que no están en d2. Ya que realmente no nos importan los valores, los ponemos a todos en _None_:"
   ]
  },
  {
   "cell_type": "code",
   "execution_count": null,
   "metadata": {},
   "outputs": [],
   "source": [
    "def subtract(d1, d2):\n",
    "    res = dict()\n",
    "    for key in d1:\n",
    "        if key not in d2:\n",
    "            res[key] = None\n",
    "    return res"
   ]
  },
  {
   "attachments": {},
   "cell_type": "markdown",
   "metadata": {},
   "source": [
    "Para encontrar las palabras del libro que no están en palabras.txt, podemos usar *process_file* para construir un histograma para palabras.txt, y luego restar (tienes que haber creado la función *process_file* en uno de los problemas anteriores):"
   ]
  },
  {
   "cell_type": "code",
   "execution_count": null,
   "metadata": {},
   "outputs": [],
   "source": [
    "words = process_file('words.txt')\n",
    "diff = subtract(hist, words)\n",
    "print(\"Words in the book that aren't in the word list:\")\n",
    "for word in diff:\n",
    "    print(word, end=' ')"
   ]
  },
  {
   "attachments": {},
   "cell_type": "markdown",
   "metadata": {},
   "source": [
    "Algunas de estas palabras son nombres. Otros, ya no son de uso común. Pero algunas son palabras comunes que realmente deberían estar en la lista!\n",
    "\n",
    "## Ejercicio P3-7.\n",
    "Python proporciona una estructura de datos llamada *set* que proporciona muchas operaciones de comunes sobre colecciones.\n",
    "\n",
    "Puede leer sobre ellos en \"Sets\" en el tema de Golosinas.\n",
    "\n",
    "Escribe un programa que use las diferencia entre colecciones (*set*) para encontrar palabras del libro que no estén en la lista de palabras."
   ]
  },
  {
   "cell_type": "code",
   "execution_count": null,
   "metadata": {},
   "outputs": [],
   "source": []
  },
  {
   "attachments": {},
   "cell_type": "markdown",
   "metadata": {},
   "source": [
    "## Palabras aleatorias\n",
    "Para elegir una palabra aleatoria del histograma, el algoritmo más simple es construir una lista con múltiples copias de cada palabra, de acuerdo con la frecuencia observada, y luego elegir de la lista:"
   ]
  },
  {
   "cell_type": "code",
   "execution_count": null,
   "metadata": {},
   "outputs": [],
   "source": [
    "def random_word(h):\n",
    "    t = []\n",
    "    for word, freq in h.items():\n",
    "        t.extend([word] * freq)\n",
    "    return random.choice(t)"
   ]
  },
  {
   "attachments": {},
   "cell_type": "markdown",
   "metadata": {},
   "source": [
    "La expresión[word] * freq crea una lista con *freq* copias de la palabra. El método *extend* es similar a *append* excepto que el argumento es una secuencia.\n",
    "\n",
    "Este algoritmo funciona, pero no es muy eficiente; cada vez que se elige una palabra al azar, reconstruye la lista, que es tan grande como el libro original. Una mejora obvia es construir la lista una vez y luego hacer selecciones múltiples, pero la lista sigue siendo grande.\n",
    "\n",
    "Una alternativa es:\n",
    "1.  Usa las claves para obtener una lista de las palabras del libro.\n",
    "2.  Crea una lista que contenga la suma acumulada de las frecuencias de las palabras (ver Ejercicio 9-2). El último elemento de esta lista es el número total de palabras del libro, n.\n",
    "3.  Elige un número aleatorio de 1 a n. Usa una búsqueda de bisección (ver Ejercicio 9-10) para encontrar el índice donde el número aleatorio se insertaría en la suma acumulativa.\n",
    "4.  Utilice el índice para encontrar la palabra correspondiente en la lista de palabras.\n",
    "\n",
    "### Ejercicio P3-8.\n",
    "Escribe un programa que utilice el algoritmo que acabo de describir para elegir una palabra aleatoria del libro."
   ]
  },
  {
   "cell_type": "code",
   "execution_count": null,
   "metadata": {},
   "outputs": [],
   "source": []
  },
  {
   "attachments": {},
   "cell_type": "markdown",
   "metadata": {},
   "source": [
    "## Análisis de Markov\n",
    "Si eliges palabras del libro al azar, puedes obtener una idea del vocabulario, pero probablemente no obtendrás una frase:\n",
    "```\n",
    "Esta es la pequeña consideración Harriet que Knightley es la mayoría de las cosas.\n",
    "```\n",
    "\n",
    "Una serie de palabras aleatorias rara vez tiene sentido porque no hay relación entre palabras sucesivas. Por ejemplo, en una oración real se espera que un artículo como \"la\" vaya seguido de un adjetivo o sustantivo, y probablemente no de un verbo o adverbio.\n",
    "\n",
    "Una forma de medir este tipo de relaciones es el análisis de Markov, que caracteriza, para una secuencia dada de palabras, la probabilidad de las palabras que podrían venir después. Por ejemplo, la canción \"Eric, la mitad de una abeja\" comienza:\n",
    "\n",
    "```\n",
    "    Half a bee, philosophically,\n",
    "    Must, ipso facto, half not be.\n",
    "    But half the bee has got to be\n",
    "    Vis a vis, its entity. D’you see?\n",
    "    But can a bee be said to be\n",
    "    Or not to be an entire bee\n",
    "    When half the bee is not a bee\n",
    "    Due to some ancient injury?\n",
    "```\n",
    "\n",
    "\n",
    "En este texto, la frase \"half the\" siempre va seguida de la palabra \"bee\", pero la frase \"the bee\" puede ir seguida de \"has\" o \"is\".\n",
    "\n",
    "El resultado del análisis de Markov es un mapeo de cada prefijo (como \"half the\" y \"the bee\") a todos los sufijos posibles (como \"has\" y \"is\").\n",
    "\n",
    "Dado este mapeo, puedes generar un texto aleatorio comenzando con cualquier prefijo y eligiendo al azar entre los posibles sufijos. A continuación, puedes combinar el final del prefijo tomándolo como nuevo prefijo y un nuevo sufijo asociado a este prefijo. Este sufijo seráel siguiente prefijo, y así sucesivamente un número determinado de veces. Por ejemplo, si empieza con el prefijo \"Half a\", entonces la siguiente palabra tiene que ser \"bee\", porque el prefijo sólo aparece una vez en el texto. El siguiente prefijo es \"a bee\", por lo que el siguiente sufijo podría ser \"philosophically\", \"be\" o \"due\".\n",
    "\n",
    "En este ejemplo la longitud del prefijo es siempre dos, pero pueded hacer el análisis de Markov con cualquier longitud de prefijo.\n",
    "\n",
    "### Ejercicio P3-9.\n",
    "Análisis de Markov:\n",
    "1.  Escribe un programa para leer un texto de un archivo y realizar un análisis de Markov. El resultado debería ser un diccionario que mapea desde los prefijos a una colección de posibles sufijos. La colección puede ser una lista, una tupla o un diccionario; depende de ti hacer una elección apropiada. Puedes probar tu programa con la longitud de prefijo 2, pero debes escribir el programa de manera que sea fácil probar otras longitudes. Puedes utilizar textos más largos como el Quijote o parte de él."
   ]
  },
  {
   "cell_type": "code",
   "execution_count": null,
   "metadata": {},
   "outputs": [],
   "source": []
  },
  {
   "attachments": {},
   "cell_type": "markdown",
   "metadata": {},
   "source": [
    "2. Añade una función al programa anterior para generar texto aleatorio basado en el análisis de Markov. Para este ejemplo, deja la puntuación adjunta a las palabras. El resultado casi siempre será casi sintácticamente correcto, pero no del todo. Semánticamente, muchas tendrán casi sentido, pero no del todo.<br><br>¿Qué pasa si se aumenta la longitud del prefijo? ¿Tiene más sentido el texto aleatorio?"
   ]
  },
  {
   "cell_type": "code",
   "execution_count": null,
   "metadata": {},
   "outputs": [],
   "source": []
  },
  {
   "attachments": {},
   "cell_type": "markdown",
   "metadata": {},
   "source": [
    "3. Una vez que tu programa esté funcionando, es posible que desees probar una combinación: si combinas texto de dos o más libros, el texto aleatorio que genere mezclará el vocabulario y las frases de las fuentes de manera interesante. Usa cualquier libro que hayas descargado en formato ASCII.\n",
    "\n",
    "Créditos: Este estudio de caso se basa en un ejemplo de Kernighan y Pike, The Practice of Programming, Addison-Wesley, 1999."
   ]
  },
  {
   "cell_type": "code",
   "execution_count": null,
   "metadata": {},
   "outputs": [],
   "source": []
  },
  {
   "attachments": {},
   "cell_type": "markdown",
   "metadata": {},
   "source": [
    "## Estructuras de datos\n",
    "Usar el análisis de Markov para generar texto aleatorio es divertido, pero también hay un punto en este ejercicio: la selección de la estructura de datos. En tu solución a los ejercicios anteriores, tuviste que elegir:\n",
    "* Cómo representar los prefijos.\n",
    "* Cómo representar la colección de posibles sufijos.\n",
    "* Cómo representar la asignación de cada prefijo a la colección de sufijos posibles.\n",
    "La última es fácil: un diccionario es la opción obvia para un mapeo de claves a los valores correspondientes.\n",
    "\n",
    "Para los prefijos, las opciones más obvias son cadenas, lista de cadenas o tupla de cadenas.\n",
    "\n",
    "Para los sufijos, una opción es una lista; otra es un histograma (diccionario).\n",
    "\n",
    "¿Cómo elegir? El primer paso es pensar en las operaciones que necesitarás implementar para cada estructura de datos. Para los prefijos, necesitamos ser capaces de eliminar palabras desde el principio y añadirlas al final. Por ejemplo, si el prefijo actual es \"Half a\", y la siguiente palabra es \"bee\", necesita poder formar el siguiente prefijo, \"a bee\".\n",
    "\n",
    "Tu primera opción podría ser una lista, ya que es fácil añadir y eliminar elementos, pero también necesitamos poder usar los prefijos como claves en un diccionario, de modo que las listas quedan excluidas. Con tuplas, no puedes agregar o quitar, pero puedes usar el operador de adición para formar una nueva tupla:"
   ]
  },
  {
   "cell_type": "code",
   "execution_count": null,
   "metadata": {},
   "outputs": [],
   "source": [
    "def shift(prefix, word):\n",
    "    return prefix[1:] + (word,)"
   ]
  },
  {
   "attachments": {},
   "cell_type": "markdown",
   "metadata": {},
   "source": [
    "_shift_ recibe una tupla de palabras, prefijo, y una cadena, palabra, y forma una nueva tupla que tiene todas las palabras en prefijo excepto la primera, y la palabra añadida al final.\n",
    "\n",
    "Para la colección de sufijos, las operaciones que necesitamos realizar incluyen añadir un nuevo sufijo (o aumentar la frecuencia de uno existente), y elegir un sufijo aleatorio. Añadir un nuevo sufijo es igualmente fácil para la implementación de la lista o el histograma. Elegir un elemento aleatorio de una lista es fácil; elegir de un histograma es más difícil de hacer eficientemente (ver Ejercicio P3-8).\n",
    "\n",
    "Hasta ahora hemos estado hablando principalmente de la facilidad de implementación, pero hay otros factores a considerar en la elección de las estructuras de datos. Uno es tiempo de ejecución. A veces hay una razón teórica para esperar que una estructura de datos sea más rápida que otra; por ejemplo, mencioné que el operador *in* es más rápido para los diccionarios que para las listas, al menos cuando el número de elementos es grande.\n",
    "\n",
    "Pero a menudo no se sabe de antemano qué implementación será más rápida. Una opción es implementar ambas y ver cuál es mejor. Este enfoque se llama **benchmarking**. Una alternativa práctica es elegir la estructura de datos más fácil de implementar y luego ver si es lo suficientemente rápida para la aplicación deseada. Si es así, no hay necesidad de seguir adelante. Si no es así, existen herramientas, como el módulo *profile*, que pueden identificar los lugares de un programa que tardan más tiempo.\n",
    "\n",
    "El otro factor a considerar es el espacio de almacenamiento. Por ejemplo, el uso de un histograma para la colección de sufijos puede ocupar menos espacio porque sólo tiene que almacenar cada palabra una vez, sin importar cuántas veces aparezca en el texto. En algunos casos, el ahorro de espacio también puede hacer que tu programa se ejecute más rápido, y en un caso extremo, es posible que tu programa no se ejecute en absoluto si se queda sin memoria. Pero para muchas aplicaciones, el espacio es una consideración secundaria después del tiempo de ejecución.\n",
    "\n",
    "Un último pensamiento: en esta discusión, he insinuado que deberíamos usar una estructura de datos tanto para el análisis como para la generación. Pero como se trata de fases separadas, también sería posible utilizar una estructura para el análisis y luego convertirla a otra estructura para su generación. Esto sería una ganancia neta si el tiempo ahorrado durante la generación excediera el tiempo invertido en la conversión.\n",
    "\n",
    "## Depuración\n",
    "Cuando está depurando un programa, y especialmente si está trabajando en un error grave, hay cinco cosas que puede intentar:\n",
    "\n",
    "- *Lectura*:<br> Examina tu código, léelo para ti mismo, y comprueba que dice lo que querías decir.\n",
    "- *Ejecutando*:<br> Experimentar haciendo cambios y ejecutando versiones diferentes. A menudo, si se muestra lo correcto en el lugar correcto del programa, el problema se vuelve obvio, pero a veces hay que construir andamios.\n",
    "- *Ruminar*:<br> ¡Tómate un tiempo para pensar! ¿Qué tipo de error es: sintáctico, de ejecución o semántico? ¿Qué información puede obtener de los mensajes de error o de la salida del programa? ¿Qué tipo de error podría causar el problema que estás viendo? ¿Qué fue lo último que cambió antes de que apareciera el problema?\n",
    "- *Patito de goma*:<br> Si le explicas el problema a alguien más, a veces encuentras la respuesta antes de terminar de hacer la pregunta. A menudo no necesitas a la otra persona; podrías hablar con un pato de goma. Y ese es el origen de la conocida estrategia llamada **depuración de patos de goma**. No me lo estoy inventando; ver https://en.wikipedia.org/wiki/Rubber_duck_debugging.\n",
    "- En algún momento, lo mejor que puedes hacer es retroceder y deshacer los cambios recientes hasta que vuelvas a un programa que funcione y que entiendas. Entonces puedes empezar a reconstruir. \n",
    "\n",
    "Los programadores principiantes a veces se quedan atascados en una de estas actividades y olvidan las demás. Cada actividad viene con su propio modo de fallo.\n",
    "\n",
    "Por ejemplo, leer tu código podría ayudar si el problema es un error tipográfico, pero no si el problema es un malentendido conceptual. Si no entiendes lo que hace tu programa, puedes leerlo 100 veces y nunca ver el error, porque el error está en tu cabeza.\n",
    "\n",
    "Realizar experimentos puede ayudar, especialmente si se realizan pruebas pequeñas y sencillas. Pero si realizas experimentos sin pensar ni leer tu código, puedes caer en un patrón que yo llamo \"programación de caminos al azar\", que es el proceso de hacer cambios al azar hasta que el programa hace lo correcto. No hace falta decir que la programación de caminos al azar puede llevar mucho tiempo.\n",
    "\n",
    "Tienes que tomarte un tiempo para pensar. La depuración es como una ciencia experimental. Debes tener al menos una hipótesis sobre cuál es el problema. Si hay dos o más posibilidades, trata de pensar en una prueba que elimine una de ellas.\n",
    "\n",
    "Pero incluso las mejores técnicas de depuración fallarán si hay demasiados errores, o si el código que estás intentando arreglar es demasiado grande y complicado. A veces la mejor opción es retirarse, simplificando el programa hasta que llegues a algo que funcione y que entiendas.\n",
    "\n",
    "Los programadores principiantes son a menudo reacios a retirarse porque no pueden soportar borrar una línea de código (incluso si está mal). Si te hace sentir mejor, copia tu programa en otro archivo antes de empezar a desmontarlo. A continuación, puede copiar las piezas una por una.\n",
    "\n",
    "Encontrar un bug duro requiere leer, correr, rumiar y a veces retroceder. Si te quedas atascado en una de estas actividades, prueba las otras.\n",
    "\n",
    "Por último. Si llevas más de media hora buscando un mismo error: levántate, da un paseo, lee un rato o haz cualquier otra actividad que no tenga que ver con el programa y no pienses en él. Cuando vuelvas seguro que en seguida tienes una idea nueva.\n",
    "\n",
    "## Glosario\n",
    "- *determinista*: Pertenece a un programa que hace lo mismo cada vez que se ejecuta, con las mismas entradas.\n",
    "- *pseudorandom*: Perteneciente a una secuencia de números que parece ser aleatoria, pero que es generada por un programa determinista.\n",
    "- *valor por defecto*: El valor dado a un parámetro opcional si no se proporciona ningún argumento.\n",
    "- *override*: Para reemplazar un valor predeterminado por un argumento.\n",
    "- *benchmarking*: El proceso de elegir entre estructuras de datos implementando alternativas y probándolas en una muestra de las posibles entradas.\n",
    "- *depuración de patos de goma*: Depurar explicando su problema a un objeto inanimado como un pato de goma. Articular el problema puede ayudarle a resolverlo, incluso si el pato de goma no conoce a Python.\n",
    "\n",
    "## Ejercicios\n",
    "### Ejercicio P3-10.\n",
    "El \"rango\" de una palabra es su posición en una lista de palabras ordenadas por frecuencia: la palabra más común tiene rango 1, la segunda más común tiene rango 2, etc.\n",
    "\n",
    "La ley de Zipf describe una relación entre los rangos y frecuencias de las palabras en los lenguajes naturales (http://en.wikipedia.org/wiki/Zipf's_law). Específicamente, predice que la frecuencia, f, de la palabra con rango r es:\n",
    "$$f = cr^{-s}$$\n",
    "donde s y c son parámetros que dependen del idioma y del texto. Si tomas el logaritmo de ambos lados de esta ecuación, obtienes:\n",
    "$$ -\\log(f) = \\log(c) -s \\log(r) $$\n",
    "\n",
    "Así que si trazas $log f$ versus $log r$, deberías obtener una línea recta con pendiente $-s$ e interceptar y en $\\log c$. \n",
    "\n",
    "Escribe un programa que lea un texto de un archivo, cuenta las frecuencias de las palabras e imprime una línea para cada palabra, en orden descendente de frecuencia, con log f y log r. Puedes dibujarlos usando las librerías de python matplotlib, plotly o seaborn en este mismo notebook. Comprueba si forman una línea recta. ¿Puedes estimar el valor de s?\n",
    "\n",
    "A continuación tienes las órdenes para instalar estas librerías si no las tienes instaladas."
   ]
  },
  {
   "cell_type": "code",
   "execution_count": null,
   "metadata": {},
   "outputs": [],
   "source": [
    "%pip3 install -y matplotlib"
   ]
  },
  {
   "cell_type": "code",
   "execution_count": null,
   "metadata": {},
   "outputs": [],
   "source": [
    "%pip3 install plotly"
   ]
  },
  {
   "cell_type": "code",
   "execution_count": null,
   "metadata": {},
   "outputs": [],
   "source": [
    "%pip3 install seaborn"
   ]
  },
  {
   "cell_type": "code",
   "execution_count": null,
   "metadata": {},
   "outputs": [],
   "source": []
  }
 ],
 "metadata": {
  "kernelspec": {
   "display_name": "Python 3.8.10 64-bit",
   "language": "python",
   "name": "python3"
  },
  "language_info": {
   "codemirror_mode": {
    "name": "ipython",
    "version": 3
   },
   "file_extension": ".py",
   "mimetype": "text/x-python",
   "name": "python",
   "nbconvert_exporter": "python",
   "pygments_lexer": "ipython3",
   "version": "3.11.2"
  },
  "vscode": {
   "interpreter": {
    "hash": "916dbcbb3f70747c44a77c7bcd40155683ae19c65e1c03b4aa3499c5328201f1"
   }
  }
 },
 "nbformat": 4,
 "nbformat_minor": 2
}
