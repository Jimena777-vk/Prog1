{
 "cells": [
  {
   "attachments": {},
   "cell_type": "markdown",
   "metadata": {},
   "source": [
    "# Diseño de la interfaz\n",
    "\n",
    "Este tema presenta un caso de estudio que demuestra un proceso para diseñar funciones que trabajan juntas.\n",
    "\n",
    "Usa módulo _turtle_, que permite crear imágenes utilizando gráficos de tortuga. El módulo _turtle_ está incluido en la mayoría de las instalaciones de Python En general la utilidad de este módulo es casi exclusivamente docente.\n",
    "\n",
    "## El módulo _turtle_\n",
    "\n",
    "Para comprobar si tiene el módulo turtle ejecuta:"
   ]
  },
  {
   "cell_type": "code",
   "execution_count": 5,
   "metadata": {},
   "outputs": [],
   "source": [
    "import turtle\n",
    "\n",
    "my_turtle = turtle.Turtle()"
   ]
  },
  {
   "attachments": {},
   "cell_type": "markdown",
   "metadata": {},
   "source": [
    "Cuando ejecutes este código, debería crear una nueva ventana con una pequeña flecha que representa a la tortuga. Cierra la ventana.\n",
    "\n",
    "El módulo _turtle_ (con t minúscula) proporciona una función llamada Turtle (con T mayúscula) que crea un objeto Turtle, que asignamos a una variable llamada _my\\_turtle_. ¿qué sucede al imprimir _my\\_turtle_?\n"
   ]
  },
  {
   "cell_type": "code",
   "execution_count": 2,
   "metadata": {},
   "outputs": [
    {
     "name": "stdout",
     "output_type": "stream",
     "text": [
      "<turtle.Turtle object at 0x7f9130f7bd00>\n"
     ]
    }
   ],
   "source": [
    "print(my_turtle)"
   ]
  },
  {
   "attachments": {},
   "cell_type": "markdown",
   "metadata": {},
   "source": [
    "¿Qué significa la respuesta?"
   ]
  },
  {
   "attachments": {},
   "cell_type": "markdown",
   "metadata": {},
   "source": [
    "Te devuelve el id (la referencia en memoria del objeto Turtle). Esto se puede deber a que no se ha incluido el método __str__"
   ]
  },
  {
   "attachments": {},
   "cell_type": "markdown",
   "metadata": {},
   "source": [
    "Para uso interactivo revisa el uso del método _mainloop_ del módulo Turtle.\n",
    "\n",
    "Una vez que creas una _Turtle_, puedes llamar a algunos métodos para moverla por la ventana. Un método es similar a una función, pero utiliza una sintaxis ligeramente diferente. Por ejemplo, para mover la tortuga hacia adelante:"
   ]
  },
  {
   "cell_type": "code",
   "execution_count": 6,
   "metadata": {},
   "outputs": [
    {
     "ename": "TclError",
     "evalue": "invalid command name \".!canvas\"",
     "output_type": "error",
     "traceback": [
      "\u001b[0;31m---------------------------------------------------------------------------\u001b[0m",
      "\u001b[0;31mTclError\u001b[0m                                  Traceback (most recent call last)",
      "Cell \u001b[0;32mIn[6], line 1\u001b[0m\n\u001b[0;32m----> 1\u001b[0m my_turtle\u001b[39m.\u001b[39;49mfd(\u001b[39m100\u001b[39;49m)\n",
      "File \u001b[0;32m/usr/lib/python3.10/turtle.py:1638\u001b[0m, in \u001b[0;36mTNavigator.forward\u001b[0;34m(self, distance)\u001b[0m\n\u001b[1;32m   1617\u001b[0m \u001b[39mdef\u001b[39;00m \u001b[39mforward\u001b[39m(\u001b[39mself\u001b[39m, distance):\n\u001b[1;32m   1618\u001b[0m \u001b[39m    \u001b[39m\u001b[39m\"\"\"Move the turtle forward by the specified distance.\u001b[39;00m\n\u001b[1;32m   1619\u001b[0m \n\u001b[1;32m   1620\u001b[0m \u001b[39m    Aliases: forward | fd\u001b[39;00m\n\u001b[0;32m   (...)\u001b[0m\n\u001b[1;32m   1636\u001b[0m \u001b[39m    (-50.00,0.00)\u001b[39;00m\n\u001b[1;32m   1637\u001b[0m \u001b[39m    \"\"\"\u001b[39;00m\n\u001b[0;32m-> 1638\u001b[0m     \u001b[39mself\u001b[39;49m\u001b[39m.\u001b[39;49m_go(distance)\n",
      "File \u001b[0;32m/usr/lib/python3.10/turtle.py:1606\u001b[0m, in \u001b[0;36mTNavigator._go\u001b[0;34m(self, distance)\u001b[0m\n\u001b[1;32m   1604\u001b[0m \u001b[39m\u001b[39m\u001b[39m\"\"\"move turtle forward by specified distance\"\"\"\u001b[39;00m\n\u001b[1;32m   1605\u001b[0m ende \u001b[39m=\u001b[39m \u001b[39mself\u001b[39m\u001b[39m.\u001b[39m_position \u001b[39m+\u001b[39m \u001b[39mself\u001b[39m\u001b[39m.\u001b[39m_orient \u001b[39m*\u001b[39m distance\n\u001b[0;32m-> 1606\u001b[0m \u001b[39mself\u001b[39;49m\u001b[39m.\u001b[39;49m_goto(ende)\n",
      "File \u001b[0;32m/usr/lib/python3.10/turtle.py:3160\u001b[0m, in \u001b[0;36mRawTurtle._goto\u001b[0;34m(self, end)\u001b[0m\n\u001b[1;32m   3152\u001b[0m go_modes \u001b[39m=\u001b[39m ( \u001b[39mself\u001b[39m\u001b[39m.\u001b[39m_drawing,\n\u001b[1;32m   3153\u001b[0m              \u001b[39mself\u001b[39m\u001b[39m.\u001b[39m_pencolor,\n\u001b[1;32m   3154\u001b[0m              \u001b[39mself\u001b[39m\u001b[39m.\u001b[39m_pensize,\n\u001b[1;32m   3155\u001b[0m              \u001b[39misinstance\u001b[39m(\u001b[39mself\u001b[39m\u001b[39m.\u001b[39m_fillpath, \u001b[39mlist\u001b[39m))\n\u001b[1;32m   3156\u001b[0m screen \u001b[39m=\u001b[39m \u001b[39mself\u001b[39m\u001b[39m.\u001b[39mscreen\n\u001b[1;32m   3157\u001b[0m undo_entry \u001b[39m=\u001b[39m (\u001b[39m\"\u001b[39m\u001b[39mgo\u001b[39m\u001b[39m\"\u001b[39m, \u001b[39mself\u001b[39m\u001b[39m.\u001b[39m_position, end, go_modes,\n\u001b[1;32m   3158\u001b[0m               (\u001b[39mself\u001b[39m\u001b[39m.\u001b[39mcurrentLineItem,\n\u001b[1;32m   3159\u001b[0m               \u001b[39mself\u001b[39m\u001b[39m.\u001b[39mcurrentLine[:],\n\u001b[0;32m-> 3160\u001b[0m               screen\u001b[39m.\u001b[39;49m_pointlist(\u001b[39mself\u001b[39;49m\u001b[39m.\u001b[39;49mcurrentLineItem),\n\u001b[1;32m   3161\u001b[0m               \u001b[39mself\u001b[39m\u001b[39m.\u001b[39mitems[:])\n\u001b[1;32m   3162\u001b[0m               )\n\u001b[1;32m   3163\u001b[0m \u001b[39mif\u001b[39;00m \u001b[39mself\u001b[39m\u001b[39m.\u001b[39mundobuffer:\n\u001b[1;32m   3164\u001b[0m     \u001b[39mself\u001b[39m\u001b[39m.\u001b[39mundobuffer\u001b[39m.\u001b[39mpush(undo_entry)\n",
      "File \u001b[0;32m/usr/lib/python3.10/turtle.py:754\u001b[0m, in \u001b[0;36mTurtleScreenBase._pointlist\u001b[0;34m(self, item)\u001b[0m\n\u001b[1;32m    746\u001b[0m \u001b[39mdef\u001b[39;00m \u001b[39m_pointlist\u001b[39m(\u001b[39mself\u001b[39m, item):\n\u001b[1;32m    747\u001b[0m \u001b[39m    \u001b[39m\u001b[39m\"\"\"returns list of coordinate-pairs of points of item\u001b[39;00m\n\u001b[1;32m    748\u001b[0m \u001b[39m    Example (for insiders):\u001b[39;00m\n\u001b[1;32m    749\u001b[0m \u001b[39m    >>> from turtle import *\u001b[39;00m\n\u001b[0;32m   (...)\u001b[0m\n\u001b[1;32m    752\u001b[0m \u001b[39m    (9.9999999999999982, 0.0)]\u001b[39;00m\n\u001b[1;32m    753\u001b[0m \u001b[39m    >>> \"\"\"\u001b[39;00m\n\u001b[0;32m--> 754\u001b[0m     cl \u001b[39m=\u001b[39m \u001b[39mself\u001b[39;49m\u001b[39m.\u001b[39;49mcv\u001b[39m.\u001b[39;49mcoords(item)\n\u001b[1;32m    755\u001b[0m     pl \u001b[39m=\u001b[39m [(cl[i], \u001b[39m-\u001b[39mcl[i\u001b[39m+\u001b[39m\u001b[39m1\u001b[39m]) \u001b[39mfor\u001b[39;00m i \u001b[39min\u001b[39;00m \u001b[39mrange\u001b[39m(\u001b[39m0\u001b[39m, \u001b[39mlen\u001b[39m(cl), \u001b[39m2\u001b[39m)]\n\u001b[1;32m    756\u001b[0m     \u001b[39mreturn\u001b[39;00m  pl\n",
      "File \u001b[0;32m<string>:1\u001b[0m, in \u001b[0;36mcoords\u001b[0;34m(self, *args, **kw)\u001b[0m\n",
      "File \u001b[0;32m/usr/lib/python3.10/tkinter/__init__.py:2795\u001b[0m, in \u001b[0;36mCanvas.coords\u001b[0;34m(self, *args)\u001b[0m\n\u001b[1;32m   2791\u001b[0m \u001b[39m\u001b[39m\u001b[39m\"\"\"Return a list of coordinates for the item given in ARGS.\"\"\"\u001b[39;00m\n\u001b[1;32m   2792\u001b[0m \u001b[39m# XXX Should use _flatten on args\u001b[39;00m\n\u001b[1;32m   2793\u001b[0m \u001b[39mreturn\u001b[39;00m [\u001b[39mself\u001b[39m\u001b[39m.\u001b[39mtk\u001b[39m.\u001b[39mgetdouble(x) \u001b[39mfor\u001b[39;00m x \u001b[39min\u001b[39;00m\n\u001b[1;32m   2794\u001b[0m                    \u001b[39mself\u001b[39m\u001b[39m.\u001b[39mtk\u001b[39m.\u001b[39msplitlist(\n\u001b[0;32m-> 2795\u001b[0m            \u001b[39mself\u001b[39;49m\u001b[39m.\u001b[39;49mtk\u001b[39m.\u001b[39;49mcall((\u001b[39mself\u001b[39;49m\u001b[39m.\u001b[39;49m_w, \u001b[39m'\u001b[39;49m\u001b[39mcoords\u001b[39;49m\u001b[39m'\u001b[39;49m) \u001b[39m+\u001b[39;49m args))]\n",
      "\u001b[0;31mTclError\u001b[0m: invalid command name \".!canvas\""
     ]
    }
   ],
   "source": [
    "my_turtle.fd(100)"
   ]
  },
  {
   "attachments": {},
   "cell_type": "markdown",
   "metadata": {},
   "source": [
    "Evidentemente esta instrucción no funcionará porque hemos cerrado la ventana. Para que veamos qué sucede tenemos que llamar a todas las funciones de movimiento que deseemos y después ejecutar el _mainloop_.\n",
    "\n",
    "Por ejemplo:"
   ]
  },
  {
   "cell_type": "code",
   "execution_count": 1,
   "metadata": {},
   "outputs": [],
   "source": [
    "import turtle\n",
    "\n",
    "my_turtle = turtle.Turtle()\n",
    "my_turtle.fd(100)\n",
    "my_turtle.lt(90)\n",
    "my_turtle.fd(100)\n",
    "my_turtle.rt(90)"
   ]
  },
  {
   "attachments": {},
   "cell_type": "markdown",
   "metadata": {},
   "source": [
    "El método, fd, está asociado al objeto tortuga que llamamos _my\\_turtle_. Llamar a un método es como hacer una petición: estás pidiendo a _my\\_turtle_ que se mueva hacia adelante.\n",
    "\n",
    "El argumento de _fd_ es una distancia en píxeles, por lo que el tamaño real depende de tu pantalla.\n",
    "\n",
    "Otros métodos que puedes llamar en una Tortuga son _bk_ para moverse hacia atrás, _lt_ para girar a la izquierda, y _rt_ para girar a la derecha. El argumento para _lt_ y _rt_ es un ángulo en grados.\n",
    "\n",
    "Además, cada Tortuga sostiene una pluma, que puede estar abajo o arriba; si la pluma está abajo, la Tortuga deja un rastro cuando se mueve. Los métodos _pu_ y _pd_ significan \"pluma arriba\" y \"pluma abajo\".\n",
    "\n",
    "Ahora modifica el programa para dibujar un cuadrado. ¡No sigas hasta que lo tengas funcionando! "
   ]
  },
  {
   "cell_type": "code",
   "execution_count": 1,
   "metadata": {},
   "outputs": [],
   "source": [
    "import turtle\n",
    "\n",
    "my_turtle = turtle.Turtle()\n",
    "my_turtle.fd(100)\n",
    "my_turtle.lt(90)\n",
    "my_turtle.fd(100)\n",
    "my_turtle.lt(90)\n",
    "my_turtle.fd(100)\n",
    "my_turtle.lt(90)\n",
    "my_turtle.fd(100)"
   ]
  },
  {
   "attachments": {},
   "cell_type": "markdown",
   "metadata": {},
   "source": [
    "### Ejercicios\n",
    "\n",
    "A continuación se presentan una serie de ejercicios con TurtleWorld. Están pensados para ser divertidos, pero también tienen un objetivo. Mientras los realizas, piensa cuál es el objetivo.\n",
    "\n",
    "1. Escribe una función llamada cuadrado que reciba un parámetro llamado t, que es una tortuga. Debe utilizar la tortuga para dibujar un cuadrado.\n"
   ]
  },
  {
   "cell_type": "code",
   "execution_count": 1,
   "metadata": {},
   "outputs": [],
   "source": [
    "import turtle\n",
    "\n",
    "t = turtle.Turtle()\n",
    "def cuadrado(t):\n",
    "    \"\"\"Recibe un objeto tortuga y dibuja un cuadrado\n",
    "\n",
    "    Args:\n",
    "        t (turtle): la tortuga\n",
    "    \"\"\"\n",
    "    for i in range(4):\n",
    "        t.fd(100)\n",
    "        t.lt(90)\n",
    "cuadrado(t)"
   ]
  },
  {
   "attachments": {},
   "cell_type": "markdown",
   "metadata": {},
   "source": [
    "2. Escribe una llamada a la función que pase la tortuga como argumento a cuadrado, y luego ejecuta el programa de nuevo.\n"
   ]
  },
  {
   "cell_type": "code",
   "execution_count": null,
   "metadata": {},
   "outputs": [],
   "source": [
    "import turtle\n",
    "\n",
    "my_turtle = turtle.Turtle()\n",
    "cuadrado(my_turtle)"
   ]
  },
  {
   "attachments": {},
   "cell_type": "markdown",
   "metadata": {},
   "source": [
    "3. Añade otro parámetro, llamado longitud, a cuadrado. Modifica el cuerpo para que la longitud de los lados tenga la longitud indicada, y luego modifica la llamada a la función para proporcionar un segundo argumento. Ejecuta el programa de nuevo. Prueba tu programa para un rango de valores de longitud."
   ]
  },
  {
   "cell_type": "code",
   "execution_count": 1,
   "metadata": {},
   "outputs": [],
   "source": [
    "import turtle\n",
    "\n",
    "my_turtle = turtle.Turtle()\n",
    "def cuadrado_con_longitud(t,l):\n",
    "    \"\"\"Cudadrado modificado para recibir una longitud\n",
    "\n",
    "    Args:\n",
    "        t (turtle): la tortuga\n",
    "        l (int): longitud lados\n",
    "    \"\"\"\n",
    "    for i in range(4):\n",
    "        t.fd(l)\n",
    "        t.lt(90)\n",
    "cuadrado_con_longitud(my_turtle,200)"
   ]
  },
  {
   "attachments": {},
   "cell_type": "markdown",
   "metadata": {},
   "source": [
    "4. Haz una copia del cuadrado y cambia el nombre a poligono. Añade otro parámetro llamado n y modifica el cuerpo para que dibuje un polígono regular de n lados. Pista: Los ángulos exteriores de un polígono regular de n lados son 360/n grados."
   ]
  },
  {
   "cell_type": "code",
   "execution_count": 1,
   "metadata": {},
   "outputs": [],
   "source": [
    "import turtle\n",
    "\n",
    "my_turtle = turtle.Turtle()\n",
    "def poligono(t,l,n):\n",
    "    \"\"\"Cuadrado modificado para dibujar polígonos\n",
    "\n",
    "    Args:\n",
    "        t (turtle): la tortuga\n",
    "        l (int): longitud lados\n",
    "        n (int): nº de lados del polígono\n",
    "    \"\"\"\n",
    "    for i in range(n):\n",
    "        t.fd(l)\n",
    "        t.lt(360/n)\n",
    "poligono(my_turtle,200,5)"
   ]
  },
  {
   "attachments": {},
   "cell_type": "markdown",
   "metadata": {},
   "source": [
    "5. Escribe una función llamada círculo que tome como parámetros una tortuga, t, y un radio, r, y que dibuja un círculo aproximado llamando a polígono con una longitud y número de lados adecuados. Prueba tu función con un rango de valores de r. Sugerencia: calcula la circunferencia del círculo y asegúrate de que longitud * n = circunferencia.\n"
   ]
  },
  {
   "cell_type": "code",
   "execution_count": 4,
   "metadata": {},
   "outputs": [],
   "source": [
    "import math,turtle\n",
    "my_turtle = turtle.Turtle()\n",
    "\n",
    "def circulo(t,r):\n",
    "    \"\"\"Genera un círculo a partir de un radio\n",
    "\n",
    "    Args:\n",
    "        t (turtle): tortuga\n",
    "        r (int): tamaño radio\n",
    "    \"\"\"\n",
    "    circunferencia = 2 * r * math.pi\n",
    "    n = 100\n",
    "    l = circunferencia/n\n",
    "    poligono(t,l,n)\n",
    "circulo(my_turtle,100)"
   ]
  },
  {
   "attachments": {},
   "cell_type": "markdown",
   "metadata": {},
   "source": [
    "6. Haz una versión más general de circle llamada arc que toma un parámetro adicional angle, que determina qué fracción de círculo dibujar. angle está en unidades de grados, así que cuando angle=360, arc debería dibujar un círculo completo."
   ]
  },
  {
   "cell_type": "code",
   "execution_count": 1,
   "metadata": {},
   "outputs": [],
   "source": [
    "import math,turtle\n",
    "my_turtle = turtle.Turtle()\n",
    "\n",
    "def arc(t,r,angle):\n",
    "    \"\"\"Versión más general para dibujar parcialmente un círculo\n",
    "\n",
    "    Args:\n",
    "        t (turtle): tortuga\n",
    "        r (int): radio círculo\n",
    "        angle (int): fracción de círculo que se dibuja\n",
    "    \"\"\"\n",
    "    circunferencia = 2 * r * math.pi \n",
    "    n = 100\n",
    "    l = circunferencia/n\n",
    "    for i in range(n): #aquí ya no podemos llamar a poligono, hemos tenido que modificarlo para que reciba el parámetro angle\n",
    "        t.fd(l)\n",
    "        t.lt(angle/n)\n",
    "arc(my_turtle,100,360)"
   ]
  },
  {
   "attachments": {},
   "cell_type": "markdown",
   "metadata": {},
   "source": [
    "## Encapsulación\n",
    "\n",
    "El primer ejercicio de la sección anteriorte pide que pongas tu código para dibujar cuadrados en una definición de función y luego llames a la función, pasando la tortuga como parámetro. Aquí tienes una solución:"
   ]
  },
  {
   "cell_type": "code",
   "execution_count": 2,
   "metadata": {},
   "outputs": [],
   "source": [
    "import turtle\n",
    "\n",
    "def square(t):\n",
    "    for i in range(4):\n",
    "        t.fd(100)\n",
    "        t.lt(90)\n",
    "\n",
    "pepe = turtle.Turtle()\n",
    "square(pepe)"
   ]
  },
  {
   "attachments": {},
   "cell_type": "markdown",
   "metadata": {},
   "source": [
    "Las instrucciones más internas, _fd_ y _lt_, tienen dos sangrías para mostrar que están dentro del bucle _for_, que está dentro de la definición de la función. La siguiente línea, cuadrado(tortuga), está a ras del margen izquierdo, lo que indica el final tanto del bucle for como de la definición de la función.\n",
    "\n",
    "Dentro de la función, t se refiere a la misma tortuga pepe, por lo que t.lt(90) tiene el mismo efecto que pepe.lt(90). En ese caso, ¿por qué no llamar al parámetro pepe? La idea es que t puede ser cualquier tortuga, no sólo pepe, así que podrías crear una segunda tortuga y pasarla como argumento a cuadrado para dibujar otro cuadrado:"
   ]
  },
  {
   "cell_type": "code",
   "execution_count": null,
   "metadata": {},
   "outputs": [],
   "source": [
    "alicia =turtle.Turtle()\n",
    "square(alicia)"
   ]
  },
  {
   "attachments": {},
   "cell_type": "markdown",
   "metadata": {},
   "source": [
    "Envolver un trozo de código en una función se denomina **encapsulación**. Una de las ventajas de la encapsulación es que se adjunta un nombre al código, que sirve como una especie de documentación. Otra ventaja es que si se reutiliza el código, es más conciso llamar a una función dos veces que copiar y pegar todo el cuerpo de la función.\n",
    "\n",
    "## Generalización\n",
    "\n",
    "El siguiente paso es añadir un parámetro de longitud al square. Eso es lo que has hecho en el ejercicio 3."
   ]
  },
  {
   "cell_type": "code",
   "execution_count": null,
   "metadata": {},
   "outputs": [],
   "source": [
    "def square(t, length):\n",
    "    for i in range(4):\n",
    "        t.fd(length)\n",
    "        t.lt(90)"
   ]
  },
  {
   "attachments": {},
   "cell_type": "markdown",
   "metadata": {},
   "source": [
    "Añadir un parámetro a una función se llama generalización porque hace que la función sea más general: en la versión anterior, el cuadrado es siempre del mismo tamaño; en la nueva versión puede ser de cualquier tamaño.\n",
    "\n",
    "El ejercicio 4 también es una generalización. En lugar de dibujar cuadrados, creas una función que dibuja polígonos regulares con cualquier número de lados. Una posible solución es:"
   ]
  },
  {
   "cell_type": "code",
   "execution_count": null,
   "metadata": {},
   "outputs": [],
   "source": [
    "def polygon(t, n, length):\n",
    "    angle = 360 / n\n",
    "    for i in range(n):\n",
    "        t.fd(length)\n",
    "        t.lt(angle)\n",
    "\n",
    "polygon(pepe, 7, 70)"
   ]
  },
  {
   "attachments": {},
   "cell_type": "markdown",
   "metadata": {},
   "source": [
    "Cuando una función tiene más de unos pocos argumentos numéricos, es fácil olvidar cuáles son, o en qué orden deben estar. En ese caso, suele ser una buena idea incluir los nombres de los parámetros en la lista de argumentos:\n",
    "\n",
    "polígono(bob, n=7, longitud=70)\n",
    "\n",
    "Se denominan argumentos de palabra clave porque incluyen los nombres de los parámetros como \"palabras clave\" (no confundir con las palabras clave de Python como while y def).\n",
    "\n",
    "Esta sintaxis hace que el programa sea más legible. También es un recordatorio de cómo funcionan los argumentos y los parámetros: cuando llamas a una función, los argumentos se asignan a los parámetros. Además, el valor indicado es el valor que se toma por defecto en caso de no indicar el parámetro."
   ]
  },
  {
   "attachments": {},
   "cell_type": "markdown",
   "metadata": {},
   "source": [
    "## Diseño de la interfaz\n",
    "\n",
    "En el ejercicio 5 se pretende cibujar un círculo, cuya función recibe como parámetro su radio, r. Aquí hay una solución simple que utiliza polygon para dibujar un polígono de 50 lados:"
   ]
  },
  {
   "cell_type": "code",
   "execution_count": null,
   "metadata": {},
   "outputs": [],
   "source": [
    "import math\n",
    "\n",
    "def circle(t, r):\n",
    "    circunferencia = 2 * math.pi * r\n",
    "    n = 50\n",
    "    longitud = circunferencia / n\n",
    "    polygon(t, n, longitud)\n"
   ]
  },
  {
   "attachments": {},
   "cell_type": "markdown",
   "metadata": {},
   "source": [
    "La primera línea calcula la circunferencia de un círculo con radio r utilizando la fórmula. Como utilizamos math.pi, tenemos que importar math. Por convención, las declaraciones de importación suelen estar al principio del script.\n",
    "\n",
    "n es el número de segmentos de línea en nuestra aproximación de un círculo, por lo que la longitud es la longitud de cada segmento. Así, polygon dibuja un polígono de 50 lados que se aproxima a un círculo con radio r.\n",
    "\n",
    "Una limitación de esta solución es que n es una constante, lo que significa que para círculos muy grandes, los segmentos de línea son demasiado largos, y para círculos pequeños, perdemos tiempo dibujando segmentos muy pequeños. Una solución sería generalizar la función tomando n como parámetro. Esto daría al usuario (quien llama al círculo) más control, pero la interfaz sería menos limpia.\n",
    "\n",
    "La interfaz de una función es un resumen de cómo se utiliza: ¿cuáles son los parámetros? ¿Qué hace la función? ¿Y cuál es el valor de retorno? Una interfaz es \"limpia\" si permite a quien la llama hacer lo que quiere sin ocuparse de detalles innecesarios.\n",
    "\n",
    "En este ejemplo, r pertenece a la interfaz porque especifica el círculo que se va a dibujar. n es menos apropiado porque pertenece a los detalles de cómo se debe representar el círculo.\n",
    "\n",
    "En lugar de desordenar la interfaz, es mejor elegir un valor apropiado de n en función de la circunferencia:"
   ]
  },
  {
   "cell_type": "code",
   "execution_count": null,
   "metadata": {},
   "outputs": [],
   "source": [
    "def circle(t, r):\n",
    "    circunferencia = 2 * math.pi * r\n",
    "    n = int(circunferencia / 3) + 1\n",
    "    longitud = circunferencia / n\n",
    "    polygon(t, n, longitud)"
   ]
  },
  {
   "attachments": {},
   "cell_type": "markdown",
   "metadata": {},
   "source": [
    "Ahora el número de segmentos es un entero cercano a circunferencia/3, por lo que la longitud de cada segmento es aproximadamente 3, que es lo suficientemente pequeño para que los círculos se vean bien, pero lo suficientemente grande para ser eficiente, y aceptable para casi cualquier tamaño de círculo (salvo que el radio esté próximo a 3 o inferior).\n",
    "\n",
    "## Refactoring\n",
    "\n",
    "Cuando escribimos circle, pudimos reutilizar polígono porque un polígono de muchos lados es una buena aproximación de un círculo. Pero _arc_ no es tan cooperativo; no podemos usar polygon o circle para dibujar un arco.\n",
    "\n",
    "Una alternativa es empezar con una copia de polygon y transformarla en _arc_. El resultado podría ser así:"
   ]
  },
  {
   "cell_type": "code",
   "execution_count": null,
   "metadata": {},
   "outputs": [],
   "source": [
    "def arc(t, r, ángulo):\n",
    "    longitud_del_arco = 2 * math.pi * r * ángulo / 360\n",
    "    n = int(longitud_del_arco / 3) + 1\n",
    "    longitud_de_paso = longitud_del_arco / n\n",
    "    angulo_de_paso = ángulo / n\n",
    "    \n",
    "    for i in range(n):\n",
    "        t.fd(longitud_de_paso)\n",
    "        t.lt(angulo_de_paso)"
   ]
  },
  {
   "attachments": {},
   "cell_type": "markdown",
   "metadata": {},
   "source": [
    "La segunda mitad de esta función se parece a polygon, pero no podemos reutilizar polygon sin cambiar la interfaz. Podríamos generalizar polygon para que tome un ángulo como tercer argumento, pero entonces polygon ya no sería un nombre apropiado. En su lugar, crearemos la función más general polyline:"
   ]
  },
  {
   "cell_type": "code",
   "execution_count": null,
   "metadata": {},
   "outputs": [],
   "source": [
    "def polyline(t, n, longitud, angulo):\n",
    "    for i in range(n):\n",
    "        t.fd(longitud)\n",
    "        t.lt(angulo)"
   ]
  },
  {
   "attachments": {},
   "cell_type": "markdown",
   "metadata": {},
   "source": [
    "Ahora podemos reescribir polygon y arc para usar polyline:"
   ]
  },
  {
   "cell_type": "code",
   "execution_count": null,
   "metadata": {},
   "outputs": [],
   "source": [
    "def polygon(t, n, longitud):\n",
    "    angulo = 360.0 / n\n",
    "    polyline(t, n, longitud, angulo)\n",
    "\n",
    "def arc(t, r, angulo):\n",
    "    longitud_de_arco = 2 * math.pi *r * angulo/360\n",
    "    n = int(longitud_de_arco / 3) + 1\n",
    "    longitud_de_paso = longitud_de_arco / n\n",
    "    angulo_de_paso = float(angulo) / n\n",
    "    polyline(t, n, longitud_de_paso, angulo_de_paso)\n"
   ]
  },
  {
   "attachments": {},
   "cell_type": "markdown",
   "metadata": {},
   "source": [
    "Por último, podemos reescribir circle para utilizar _arc_:"
   ]
  },
  {
   "cell_type": "code",
   "execution_count": null,
   "metadata": {},
   "outputs": [],
   "source": [
    "def circle(t, r):\n",
    "    arc(t, r, 360)"
   ]
  },
  {
   "attachments": {},
   "cell_type": "markdown",
   "metadata": {},
   "source": [
    "Este proceso de reorganizar un programa para mejorar las interfaces y facilitar la reutilización del código se denomina **refactorización**. En este caso, nos dimos cuenta de que había código similar en arc y polygon, así que lo \"factorizamos\" en polyline.\n",
    "\n",
    "Si hubiéramos planificado con antelación, podríamos haber escrito primero polyline y evitar la refactorización, pero a menudo no se sabe lo suficiente al principio de un proyecto para diseñar todas las interfaces. Una vez que empiezas a codificar, entiendes mejor el problema. A veces la refactorización es una señal de que se ha aprendido algo.\n",
    "\n",
    "## Un plan de desarrollo\n",
    "\n",
    "Un plan de desarrollo es un proceso para escribir programas. El proceso que utilizamos en este caso de estudio es \"encapsulación y generalización\". Los pasos de este proceso son\n",
    "\n",
    "1. Empezar escribiendo un pequeño programa sin definiciones de funciones.\n",
    "2. Una vez que el programa funcione, identifica una parte coherente del mismo, encapsule la parte en una función y dele un nombre.\n",
    "3. Generaliza la función añadiendo los parámetros adecuados.\n",
    "4. Repite los pasos 1 a 3 hasta que tengas un conjunto de funciones que funcionen. Copia y pega el código de trabajo para evitar volver a escribirlo (y volver a depurarlo).\n",
    "5. Busca oportunidades para mejorar el programa mediante la refactorización. Por ejemplo, si tienes código similar en varios lugares, considera la posibilidad de factorizarlo en una función adecuadamente general. \n",
    "\n",
    "Este proceso tiene algunos inconvenientes -más adelante veremos las alternativas-, pero puede ser útil si no sabes de antemano cómo dividir el programa en funciones. Este enfoque te permite diseñar sobre la marcha"
   ]
  },
  {
   "attachments": {},
   "cell_type": "markdown",
   "metadata": {},
   "source": [
    "## docstring\n",
    "\n",
    "Un docstring es una cadena al principio de una función que explica la interfaz (\"doc\" es la abreviatura de \"documentación\"). He aquí un ejemplo:"
   ]
  },
  {
   "cell_type": "code",
   "execution_count": null,
   "metadata": {},
   "outputs": [],
   "source": [
    "def polyline(t, n, longitud, ángulo):\n",
    "    \"\"\"Dibuja n segmentos de línea con la longitud y el ángulo (en grados) dados.\n",
    "    ángulo (en grados) entre ellos. t es una tortuga.\n",
    "    \"\"\"    \n",
    "    for i in range(n):\n",
    "        t.fd(longitud)\n",
    "        t.lt(ángulo)"
   ]
  },
  {
   "attachments": {},
   "cell_type": "markdown",
   "metadata": {},
   "source": [
    "Por convención, todos los docstrings son cadenas con comillas triples, también conocidas como cadenas multilínea porque las comillas triples permiten que la cadena abarque más de una línea.\n",
    "\n",
    "Es escueto, pero contiene la información esencial que alguien necesitaría para utilizar esta función. Explica de forma concisa lo que hace la función (sin entrar en los detalles de cómo lo hace). Explica qué efecto tiene cada parámetro en el comportamiento de la función y de qué tipo debe ser cada parámetro (si no es obvio).\n",
    "\n",
    "Escribir este tipo de documentación es una parte importante del diseño de la interfaz. Una interfaz bien diseñada debería ser sencilla de explicar; si te cuesta explicar una de tus funciones, quizá la interfaz podría mejorarse.\n",
    "\n",
    "## Debugging\n",
    "\n",
    "Una interfaz es como un contrato entre una función y quien la llama. La persona que llama se compromete a proporcionar ciertos parámetros y la función se compromete a hacer cierto trabajo.\n",
    "\n",
    "Por ejemplo, _polyline_ requiere cuatro argumentos: t tiene que ser una tortuga; n tiene que ser un número entero; la longitud debe ser un número positivo; y el ángulo tiene que ser un número, que se entiende en grados.\n",
    "\n",
    "Estos requisitos se llaman precondiciones porque se supone que deben ser verdaderos antes de que la función comience a ejecutarse. Por el contrario, las condiciones al final de la función son postcondiciones. Las postcondiciones incluyen el efecto previsto de la función (como dibujar segmentos de líneas) y cualquier efecto secundario (como mover la Tortuga o hacer otros cambios).\n",
    "\n",
    "Las precondiciones son responsabilidad del que llama a la función. Si la persona que llama viola una precondición (¡bien documentada!) y la función no funciona correctamente, el error está en la persona que llama, no en la función.\n",
    "\n",
    "Si las precondiciones se cumplen y las postcondiciones no, el fallo está en la función. Si las precondiciones y postcondiciones son claras, pueden ayudar a la depuración.\n",
    "\n",
    "## Glosario\n",
    "\n",
    "- *método*: Una función que se asocia a un objeto y se llama utilizando la notación de puntos.\n",
    "- *bucle*: Una parte de un programa que puede ejecutarse repetidamente.\n",
    "- *encapsulación*: Proceso de transformación de una secuencia de sentencias en una definición de función.\n",
    "- *generalización*: El proceso de sustituir algo innecesariamente específico (como un número) por algo apropiadamente general (como una variable o un parámetro).\n",
    "- *argumento de palabra clave*: Un argumento que incluye el nombre del parámetro como \"palabra clave\".\n",
    "- *interfaz*: Una descripción de cómo utilizar una función, incluyendo el nombre y las descripciones de los argumentos y el valor de retorno.\n",
    "- *refactorización*: Proceso de modificación de un programa en funcionamiento para mejorar las interfaces de las funciones y otras cualidades del código.\n",
    "- *plan de desarrollo*: Un proceso para escribir programas.\n",
    "- *docstring*: Cadena que aparece en la parte superior de la definición de una función para documentar su interfaz.\n",
    "- *precondición*: Requisito que debe cumplir el llamante antes de que se inicie una función.\n",
    "- *postcondición*: Requisito que debe cumplir la función antes de que termine.\n",
    "\n",
    "## Ejercicios\n",
    "### Ejercicio P1-1\n",
    "\n",
    "Escribe un conjunto de funciones apropiadamente general que pueda dibujar flores como en la figura adjunta ![Flores](flores.png) "
   ]
  },
  {
   "cell_type": "code",
   "execution_count": 1,
   "metadata": {},
   "outputs": [],
   "source": [
    "import turtle,math\n",
    "my_turtle = turtle.Turtle()\n",
    "#usamos parte del código de las soluciones\n",
    "def arc(t, r, ángulo):\n",
    "    longitud_del_arco = 2 * math.pi * r * ángulo / 360\n",
    "    n = int(longitud_del_arco / 3) + 1\n",
    "    longitud_de_paso = longitud_del_arco / n\n",
    "    angulo_de_paso = ángulo / n\n",
    "    \n",
    "    for i in range(n):\n",
    "        t.fd(longitud_de_paso)\n",
    "        t.lt(angulo_de_paso)\n",
    "\n",
    "def flor(t,n,r,angle): #dependiendo de los parámetros que se meta va a dibujar una flor u otra\n",
    "    \"\"\"Función genérica para dibujar flores\n",
    "\n",
    "    Args:\n",
    "        t (turtle): tortuga\n",
    "        n (int): nº pétalos\n",
    "        r (int): radio pétalo\n",
    "        angle (int): arco del pétalo\n",
    "    \"\"\"\n",
    "    for i in range(n):\n",
    "        for i in range(2):\n",
    "            arc(t,r,angle)\n",
    "            t.lt(180 - angle)\n",
    "        t.lt(360/n)\n",
    "flor(my_turtle ,10 ,120 ,60)\n"
   ]
  },
  {
   "attachments": {},
   "cell_type": "markdown",
   "metadata": {},
   "source": [
    "### Ejercicio P1-2.\n",
    "Escribe un conjunto de funciones apropiadamente general que pueda polígonos regulares con segmentos que unen el centro del polígono con cada uno de los vértices."
   ]
  },
  {
   "cell_type": "code",
   "execution_count": 1,
   "metadata": {},
   "outputs": [],
   "source": [
    "import turtle,math\n",
    "my_turtle = turtle.Turtle()\n",
    "\n",
    "def dibujar_segmentos(t,r,angle):\n",
    "    \"\"\"Dibuja los segmentos resultantes de unir los vértices del polígono con su centro\n",
    "\n",
    "    Args:\n",
    "        t (turtle): tortuga\n",
    "        r (int): tamaño segmento\n",
    "        angle (int): ángulos del segmento\n",
    "    \"\"\"\n",
    "    fig = r * math.sin(angle * math.pi/180)\n",
    "    t.rt(angle)\n",
    "    t.fd(r)\n",
    "    t.lt(90 + angle)\n",
    "    t.fd(2*fig)\n",
    "    t.lt(90+angle)\n",
    "    t.fd(r)\n",
    "    t.lt(180-angle)\n",
    "\n",
    "def dibujar_figura(t,n,r,angle = 360):\n",
    "    \"\"\"Dibuja una figura de n lados usando los segmentos\n",
    "\n",
    "    Args:\n",
    "        t (turtle): tortuga\n",
    "        n (int): nº lados figura/segmento\n",
    "        r (int): tamaño lado/segmento\n",
    "        angle (int, optional): Variable auxiliar para saber con qué ángulo se dibuja el segmento. Defaults to 360.\n",
    "    \"\"\"\n",
    "    aux = angle/n\n",
    "    for i in range(n):\n",
    "        dibujar_segmentos(t,r,aux/2)\n",
    "        t.lt(aux)\n",
    "dibujar_figura(my_turtle,5,50)\n",
    "dibujar_figura(my_turtle,6,50)\n"
   ]
  },
  {
   "attachments": {},
   "cell_type": "markdown",
   "metadata": {},
   "source": [
    "### Ejercicio P1-3.\n",
    "\n",
    "Lee sobre espirales en http://en.wikipedia.org/wiki/Spiral; luego escribe un programa que dibuje una espiral arquimediana (o de otro tipo)."
   ]
  },
  {
   "cell_type": "code",
   "execution_count": 4,
   "metadata": {},
   "outputs": [],
   "source": [
    "import turtle,math\n",
    "my_turtle = turtle.Turtle()\n",
    "\n",
    "def espiral(t, n, r):\n",
    "    \"\"\"Dibuja espirales\n",
    "\n",
    "    Args:\n",
    "        t (turtle): tortuga\n",
    "        n (int): nº de loops\n",
    "        r (int): tamaño de los loops\n",
    "    \"\"\"\n",
    "    aux1 = 0\n",
    "    for i in range(n):\n",
    "        t.fd(r)\n",
    "        aux2 = 1/(0.1 + 0.0002 * aux1)\n",
    "        t.lt(aux2)\n",
    "        aux1 += aux2\n",
    "espiral(my_turtle,500,3)"
   ]
  },
  {
   "attachments": {},
   "cell_type": "markdown",
   "metadata": {},
   "source": [
    "### Ejercicio P1-4.\n",
    "\n",
    "Busca información sobre el fractal de Koch y reprodúcelo. Sugerencia: realiza una aproximación recursiva con un límite de recursividad. Simplifica haciendo que la longitud inicial de los lados tenga que ser una potencia de 3."
   ]
  },
  {
   "cell_type": "code",
   "execution_count": 3,
   "metadata": {},
   "outputs": [
    {
     "ename": "KeyboardInterrupt",
     "evalue": "",
     "output_type": "error",
     "traceback": [
      "\u001b[0;31m---------------------------------------------------------------------------\u001b[0m",
      "\u001b[0;31mKeyboardInterrupt\u001b[0m                         Traceback (most recent call last)",
      "Cell \u001b[0;32mIn[3], line 16\u001b[0m\n\u001b[1;32m     13\u001b[0m     fractal(t,l\u001b[39m/\u001b[39m\u001b[39m3\u001b[39m, f\u001b[39m-\u001b[39m\u001b[39m1\u001b[39m)\n\u001b[1;32m     15\u001b[0m \u001b[39mfor\u001b[39;00m i \u001b[39min\u001b[39;00m \u001b[39mrange\u001b[39m(\u001b[39m6\u001b[39m):\n\u001b[0;32m---> 16\u001b[0m     fractal(my_turtle, \u001b[39m210\u001b[39;49m,\u001b[39m4\u001b[39;49m)\n\u001b[1;32m     17\u001b[0m     my_turtle\u001b[39m.\u001b[39mrt(\u001b[39m60\u001b[39m)\n",
      "Cell \u001b[0;32mIn[3], line 13\u001b[0m, in \u001b[0;36mfractal\u001b[0;34m(t, l, f)\u001b[0m\n\u001b[1;32m     11\u001b[0m fractal(t,l\u001b[39m/\u001b[39m\u001b[39m3\u001b[39m, f\u001b[39m-\u001b[39m\u001b[39m1\u001b[39m)\n\u001b[1;32m     12\u001b[0m t\u001b[39m.\u001b[39mrt(\u001b[39m60\u001b[39m)\n\u001b[0;32m---> 13\u001b[0m fractal(t,l\u001b[39m/\u001b[39;49m\u001b[39m3\u001b[39;49m, f\u001b[39m-\u001b[39;49m\u001b[39m1\u001b[39;49m)\n",
      "Cell \u001b[0;32mIn[3], line 10\u001b[0m, in \u001b[0;36mfractal\u001b[0;34m(t, l, f)\u001b[0m\n\u001b[1;32m      8\u001b[0m t\u001b[39m.\u001b[39mrt(\u001b[39m60\u001b[39m)\n\u001b[1;32m      9\u001b[0m fractal(t,l\u001b[39m/\u001b[39m\u001b[39m3\u001b[39m, f\u001b[39m-\u001b[39m\u001b[39m1\u001b[39m)\n\u001b[0;32m---> 10\u001b[0m t\u001b[39m.\u001b[39;49mlt(\u001b[39m120\u001b[39;49m)\n\u001b[1;32m     11\u001b[0m fractal(t,l\u001b[39m/\u001b[39m\u001b[39m3\u001b[39m, f\u001b[39m-\u001b[39m\u001b[39m1\u001b[39m)\n\u001b[1;32m     12\u001b[0m t\u001b[39m.\u001b[39mrt(\u001b[39m60\u001b[39m)\n",
      "File \u001b[0;32m/usr/lib/python3.10/turtle.py:1700\u001b[0m, in \u001b[0;36mTNavigator.left\u001b[0;34m(self, angle)\u001b[0m\n\u001b[1;32m   1681\u001b[0m \u001b[39mdef\u001b[39;00m \u001b[39mleft\u001b[39m(\u001b[39mself\u001b[39m, angle):\n\u001b[1;32m   1682\u001b[0m \u001b[39m    \u001b[39m\u001b[39m\"\"\"Turn turtle left by angle units.\u001b[39;00m\n\u001b[1;32m   1683\u001b[0m \n\u001b[1;32m   1684\u001b[0m \u001b[39m    Aliases: left | lt\u001b[39;00m\n\u001b[0;32m   (...)\u001b[0m\n\u001b[1;32m   1698\u001b[0m \u001b[39m    67.0\u001b[39;00m\n\u001b[1;32m   1699\u001b[0m \u001b[39m    \"\"\"\u001b[39;00m\n\u001b[0;32m-> 1700\u001b[0m     \u001b[39mself\u001b[39;49m\u001b[39m.\u001b[39;49m_rotate(angle)\n",
      "File \u001b[0;32m/usr/lib/python3.10/turtle.py:3278\u001b[0m, in \u001b[0;36mRawTurtle._rotate\u001b[0;34m(self, angle)\u001b[0m\n\u001b[1;32m   3276\u001b[0m     \u001b[39mfor\u001b[39;00m _ \u001b[39min\u001b[39;00m \u001b[39mrange\u001b[39m(steps):\n\u001b[1;32m   3277\u001b[0m         \u001b[39mself\u001b[39m\u001b[39m.\u001b[39m_orient \u001b[39m=\u001b[39m \u001b[39mself\u001b[39m\u001b[39m.\u001b[39m_orient\u001b[39m.\u001b[39mrotate(delta)\n\u001b[0;32m-> 3278\u001b[0m         \u001b[39mself\u001b[39;49m\u001b[39m.\u001b[39;49m_update()\n\u001b[1;32m   3279\u001b[0m \u001b[39mself\u001b[39m\u001b[39m.\u001b[39m_orient \u001b[39m=\u001b[39m neworient\n\u001b[1;32m   3280\u001b[0m \u001b[39mself\u001b[39m\u001b[39m.\u001b[39m_update()\n",
      "File \u001b[0;32m/usr/lib/python3.10/turtle.py:2664\u001b[0m, in \u001b[0;36mRawTurtle._update\u001b[0;34m(self)\u001b[0m\n\u001b[1;32m   2662\u001b[0m     \u001b[39mself\u001b[39m\u001b[39m.\u001b[39m_drawturtle()\n\u001b[1;32m   2663\u001b[0m     screen\u001b[39m.\u001b[39m_update()                  \u001b[39m# TurtleScreenBase\u001b[39;00m\n\u001b[0;32m-> 2664\u001b[0m     screen\u001b[39m.\u001b[39;49m_delay(screen\u001b[39m.\u001b[39;49m_delayvalue) \u001b[39m# TurtleScreenBase\u001b[39;00m\n\u001b[1;32m   2665\u001b[0m \u001b[39melse\u001b[39;00m:\n\u001b[1;32m   2666\u001b[0m     \u001b[39mself\u001b[39m\u001b[39m.\u001b[39m_update_data()\n",
      "File \u001b[0;32m/usr/lib/python3.10/turtle.py:565\u001b[0m, in \u001b[0;36mTurtleScreenBase._delay\u001b[0;34m(self, delay)\u001b[0m\n\u001b[1;32m    563\u001b[0m \u001b[39mdef\u001b[39;00m \u001b[39m_delay\u001b[39m(\u001b[39mself\u001b[39m, delay):\n\u001b[1;32m    564\u001b[0m \u001b[39m    \u001b[39m\u001b[39m\"\"\"Delay subsequent canvas actions for delay ms.\"\"\"\u001b[39;00m\n\u001b[0;32m--> 565\u001b[0m     \u001b[39mself\u001b[39;49m\u001b[39m.\u001b[39;49mcv\u001b[39m.\u001b[39;49mafter(delay)\n",
      "File \u001b[0;32m/usr/lib/python3.10/tkinter/__init__.py:834\u001b[0m, in \u001b[0;36mMisc.after\u001b[0;34m(self, ms, func, *args)\u001b[0m\n\u001b[1;32m    826\u001b[0m \u001b[39m\u001b[39m\u001b[39m\"\"\"Call function once after given time.\u001b[39;00m\n\u001b[1;32m    827\u001b[0m \n\u001b[1;32m    828\u001b[0m \u001b[39mMS specifies the time in milliseconds. FUNC gives the\u001b[39;00m\n\u001b[1;32m    829\u001b[0m \u001b[39mfunction which shall be called. Additional parameters\u001b[39;00m\n\u001b[1;32m    830\u001b[0m \u001b[39mare given as parameters to the function call.  Return\u001b[39;00m\n\u001b[1;32m    831\u001b[0m \u001b[39midentifier to cancel scheduling with after_cancel.\"\"\"\u001b[39;00m\n\u001b[1;32m    832\u001b[0m \u001b[39mif\u001b[39;00m func \u001b[39mis\u001b[39;00m \u001b[39mNone\u001b[39;00m:\n\u001b[1;32m    833\u001b[0m     \u001b[39m# I'd rather use time.sleep(ms*0.001)\u001b[39;00m\n\u001b[0;32m--> 834\u001b[0m     \u001b[39mself\u001b[39;49m\u001b[39m.\u001b[39;49mtk\u001b[39m.\u001b[39;49mcall(\u001b[39m'\u001b[39;49m\u001b[39mafter\u001b[39;49m\u001b[39m'\u001b[39;49m, ms)\n\u001b[1;32m    835\u001b[0m     \u001b[39mreturn\u001b[39;00m \u001b[39mNone\u001b[39;00m\n\u001b[1;32m    836\u001b[0m \u001b[39melse\u001b[39;00m:\n",
      "\u001b[0;31mKeyboardInterrupt\u001b[0m: "
     ]
    }
   ],
   "source": [
    "import turtle,math\n",
    "my_turtle = turtle.Turtle()\n",
    "\n",
    "def fractal(t,l, f):\n",
    "    \"\"\"Reproduce el fractal de Korch\n",
    "\n",
    "    Args:\n",
    "        t (turtle): tortuga\n",
    "        l (int): longitud de los lados\n",
    "        f (int): nº veces que repite el patrón\n",
    "\n",
    "    \"\"\"\n",
    "    if f == 0:\n",
    "        return t.fd(l) #para evitar recursiópn infinita\n",
    "    fractal(t,l/3, f-1)\n",
    "    t.rt(60)\n",
    "    fractal(t,l/3, f-1)\n",
    "    t.lt(120)\n",
    "    fractal(t,l/3, f-1)\n",
    "    t.rt(60)\n",
    "    fractal(t,l/3, f-1)\n",
    "\n",
    "for i in range(6):\n",
    "    fractal(my_turtle, 210,4)\n",
    "    my_turtle.rt(60)"
   ]
  },
  {
   "attachments": {},
   "cell_type": "markdown",
   "metadata": {},
   "source": [
    "### Ejercicio P1-extra.\n",
    "\n",
    "Este ejercicio no es necesario entregarlo para obtener la máxima nota pero debido a su nivel de complejidad y detalle es un buen ejercicio para mejorar tus habilidades y puede subir la nota en caso de no haberse obtenido la máxima.\n",
    "\n",
    "Las letras del alfabeto se pueden construir a partir de un número moderado de elementos básicos, como líneas verticales y horizontales y unas pocas curvas. Diseña un alfabeto que pueda ser dibujado con un número mínimo de elementos básicos y luego escribe funciones que dibujen las letras.\n",
    "\n",
    "Debes escribir una función para cada letra, con nombres como dibujar_a, dibujar_b, etc., y poner tus funciones en un archivo llamado letras.py. "
   ]
  },
  {
   "cell_type": "code",
   "execution_count": null,
   "metadata": {},
   "outputs": [],
   "source": []
  },
  {
   "attachments": {},
   "cell_type": "markdown",
   "metadata": {},
   "source": []
  }
 ],
 "metadata": {
  "interpreter": {
   "hash": "916dbcbb3f70747c44a77c7bcd40155683ae19c65e1c03b4aa3499c5328201f1"
  },
  "kernelspec": {
   "display_name": "Python 3.8.10 64-bit",
   "language": "python",
   "name": "python3"
  },
  "language_info": {
   "codemirror_mode": {
    "name": "ipython",
    "version": 3
   },
   "file_extension": ".py",
   "mimetype": "text/x-python",
   "name": "python",
   "nbconvert_exporter": "python",
   "pygments_lexer": "ipython3",
   "version": "3.10.6"
  },
  "orig_nbformat": 4
 },
 "nbformat": 4,
 "nbformat_minor": 2
}
