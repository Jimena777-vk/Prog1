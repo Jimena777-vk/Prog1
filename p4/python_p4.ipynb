{
 "cells": [
  {
   "attachments": {},
   "cell_type": "markdown",
   "metadata": {},
   "source": [
    "\n",
    "# Librería para realizar geometría de segundo de bachillerato\n",
    "\n",
    "Vamos a crear una librería para hacer problema de geometría de bachillerato y vamos a realizarlo por aproximaciones sucesivas. Como es una librería deberá realizarse en un script aparte al que se denominará python-p4.py. Así mismo resolveremos algunos problemas usando esa librería. Esos problemas se resolverán usando esa librería pero esta vez en este notebook. Para ello no puedes copiar la librería en el notebook sino que deberás usar import para importarla.\n",
    "\n",
    "La primera de las fases es definir los objetos necesarios y la herencia entre ellos. Para ello sabemos que tenemos cuatro objetos en este tipo de problemas: Point, Vector, Line y Plane. Una vez definidos necesitamos saber qué propiedades tienen estos objetos. Los puntos y los vectores tienen coordenadas. Por su parte las líneas y los planos están definidos por medio de un punto y un vector director (el vector director en un plano es perpendicular a él). Debes pensar qué tipo de dato te puede resultar mejor para estas propiedades: tuplas, listas, diccionarios, etc. Debes, además, pensar en la herencia entre las distintas clases.\n",
    "\n",
    "Ya que tenemos definidas las clases y sus propiedades debemos empezar definiendo el constructor de estas clases (\\_\\_init\\_\\_). Y la primera pregunta es cómo puede ser definido cada uno de estos objetos. Para ello veámoslos individualmente:\n",
    "- Un punto: puede estar definido por tres coordenadas o por un vector.\n",
    "- Un vector: puede estar definido por tres coordenadas, por un punto (vector afín) o por dos puntos no coincidentes.\n",
    "- Una línea: puede estar definida por un punto y un vector o por dos puntos no coindicentes (equivalente a un punto y a un vector si se calcula el vector entre los dos puntos)\n",
    "- Un plano: puede estar definido por tres puntos, por un punto y un vector director, por un punto y dos vectores linealmente independientes en el plano (esperemos a definir el producto vectorial de vectores para hacer esta parte), por dos puntos y un vector en el plano no colineal con el vector definido por los dos puntos.\n",
    "\n",
    "Como vemos tenemos problemas con la colinealidad y la coincidencias. Como un constructor no puede retornar un tipo distinto al que construye debes pensar cómo solucionar este problema antes de continuar. La decisión que tomes va a condicionar todo el resto del desarrollo en una dirección u otra. Dos soluciones sugeridas son retornar con una excepción cuando se produce un problema de este tipo para que lo maneje quien está resolviendo el problema o utilizar una clase superior que determine en función de las condiciones qué objeto va a construir y que este objeto construido sea la propiedad de esta clase superior; así la propiedad de esta clase superior será un Point, un Vector, una Line o un Plane según los parámetros de entrada aportados y la relación entre estos. La ventaja de esta clase superior es que podremos definir las funciones de intersección y unión de forma genérica para cualquier tipo de objetos. Si usas la segunda opción define también un método get que retorne el objeto definido (la propiedad de esta clase).\n",
    "\n",
    "El siguiente paso es construir el método \\_\\_str\\_\\_ que nos permitirá una depuración sencilla. En el caso del punto y la recta es sencillo, basta con mostrar las coordenadas de estos indicando si es un vector o un punto con un texto, por ejemplo: point (1, -1, 3) o vector (0, 4, -1). Sin embargo las coordenadas de estos vectores son flotantes y por tanto pueden ser difíciles de leer en algunos casos. Se recomienda presentarlos por defecto con dos cifras decimales e introducir un método que permita cambiar este valor por defecto (que será una propiedad interna del objeto).\n",
    "En el caso de los planos y las rectas es algo más complicado porque tienen varias representaciones posibles: \"cointinuous\", \"parametrics\", \"vectorial\" o \"implicit\". Debes definir una propiedad interna de los objetos que defina el tipo de representación iniciándola a un valor por defecto. El método \\_\\_str\\_\\_ utilizará este valor para mostrar una representación u otra.\n",
    "\n",
    "Ahora vamos a definir otras operaciones entre objetos y vamos a hacernos preguntas para ver qué métodos.\n",
    "\n",
    "## La suma (\\_\\_add\\_\\_ y \\_\\_radd\\_\\_)\n",
    "\n",
    "Se pueden definir la suma y la resta de objetos en las siguientes condiciones:\n",
    "\n",
    "  \n",
    "- Puntos:\n",
    "  - ¿Tiene sentido sumar dos puntos?: podría tenerlo si consideramos que es conseguir un punto sumando los vetores afines asociados a dichos puntos pero está un poco \"traido por los pelos\". Se puede definir así o no definir la suma de puntos. Al fin y al cabo se pueden definir vectores usando los puntos y usar la suma de vectores que más adelante veremos que tiene sentido.\n",
    "  - ¿Tiene sentido sumar un punto y un vector?: sí, es básicamente aplicar un vector a un punto para obtener un nuevo punto.\n",
    "  - ¿Tiene sentido sumar un punto con una recta?: podría tenerlo para construir un objeto que contuviese a la recta y al punto pero es mejor dejarlo para el operador lógico \\_\\_or\\_\\_ en el que podría tener un sentido más claro. Esa es decisión tuya.\n",
    "  - ¿Tiene sentido sumar un punto con un plano?: no lo tiene en ningún caso. Para el \\_\\_or\\_\\_ podría tener un sentido degenerado pero ya lo veremos.\n",
    "- Vectores:\n",
    "  - ¿Tiene sentido sumar un vector y un punto?: sí, es el mismo caso del punto y el vector pero a la inversa. Esto hace innecesario definir \\_\\_radd\\_\\_ para un punto.\n",
    "  - ¿Tiene sentido sumar dos vectores?: sí, se obtiene un nuevo vector.\n",
    "  - ¿Tiene sentido sumar un vector y una recta?: de una forma general puede servir para construir un nuevo objeto (Line o Plane) pero de nuevo puedes dejarlo para el método \\_\\_or\\_\\_\n",
    "  - ¿Tiene sentido sumar un vector y un plano?: no lo tiene en ningún caso. Para el \\_\\_or\\_\\_ podría tener un sentido degenerado pero ya lo veremos.\n",
    "- Lineas:\n",
    "  - ¿Tiene sentido sumar una línea con un vector o un punto?: mirar los casos anteriores y según las decisiones que hayas tomado puede tener sentido o no.\n",
    "  - ¿Tiene sentido sumar una linea con un plano?: no lo tiene en ningún caso. Para el \\_\\_or\\_\\_ podría tener un sentido degenerado pero ya lo veremos.\n",
    "- Planos:\n",
    "  - ¿Tiene sentido sumar un plano con algún tipo de objeto?: ver casos anteriores.\n",
    "\n",
    "Como podemos ver, si los definimos adecuadamente no hace falta definir \\_\\_radd\\_\\_ en ningún caso.\n",
    "\n",
    "## La resta (\\_\\_sub\\_\\_ y \\_\\_rsub\\_\\_)\n",
    "\n",
    "Estas debes hacerlas tú de forma congruente con las sumas. Debes indicar claramente su forma de operar en los comentarios del código.\n",
    "\n",
    "## La multiplicación (\\_\\_mul\\_\\_ y \\_\\_rmul\\_\\_)\n",
    "\n",
    "- Puntos:\n",
    "  - ¿Tiene sentido multiplicar un punto por un escalar?: tiene sentido pero es mejor dejar que sea necesario crear el vector afín asociado al punto para multiplicarlo con lo que es mejor no definir el producto por un escalar.\n",
    "  - ¿Tiene sentido multiplicar dos puntos?: tiene el mismo sentido que sumarlos. Lo mejor es no definir la multiplicación y que sea necesario crear los vectores afines equivalentes para poder multiplicarlos.\n",
    "  - ¿Tiene sentido multiplicar un punto por un vector, un plano o una recta?: puede tener sentido pero es mejor que se tenga que operar con el vector afín asociado.\n",
    "  - Por tanto no definiremos la multiplicación de puntos para que devuelva un error cuando intente sumarse un punto con algo.\n",
    "- Vectores:\n",
    "  - ¿Tiene sentido multiplicar un escalar por un vector?: sí. Es más también tiene sentido multiplicar un vector por un escalar con lo que será necesario definir tanto \\_\\_mul\\_\\_ como \\_\\_rmul\\_\\_\n",
    "  - ¿Tiene sentido multiplicar un vector y un punto?: veasen casos anteriores.\n",
    "  - ¿Tiene sentido multiplicar un dos vectores?: mucho, de hecho existen varias posibles multiplicaciones:\n",
    "    - Producto vectorial: vamos a utilizar \\_\\_mul\\_\\_ para realizar el producto vectorial.\n",
    "    - Producto escalar: será necesario definir un nuevo método para definir el producto escalar, puede llamarse, por ejemplo \"escalar\" y debe recibir el segundo vector por parámetro.\n",
    "    - Producto mixto: consiste en multiplicar tres vectores de tal forma que se multiplica el producto escalar del primer vector por el resultante del producto vectorial de los otros dos vectores. Este método puede finirse con dos parámetros de entrada o dejar que el programador lo haga con los métodos ya definidos. La ventaja de definirlo es que también sirve para calcular determinantes de matrices en caso necesario definiendo cada fila como un vector.\n",
    "    - Ángulo entre dos vectores: como está relacionado con el producto escalar es bueno definirlo ahora. Será necesario un método \"angle\" que calcule este ángulo (siempre en radianes).\n",
    "  - ¿Tiene sentido multiplicar un vector por una recta?: sí, en tanto en cuanto es multiplicar el vector director de la recta por el vector. Debe devolver un vector. Con la herencia adecuada e implementando \\_\\_rmul\\_\\_ se puede multiplicar una recta por un vector. \\_\\_rmul\\_\\_ puede cambiar el orden de multiplicación para así llamar a \\_\\_mul\\_\\_ y retornar el resultado.\n",
    "  - ¿Tiene sentido multiplicar un vector por un plano?: sí, en tanto en cuanto es multiplicar el vector director del plano por el vector. Debe devolver un vector. Con la herencia adecuada e implementando \\_\\_rmul\\_\\_ se puede multiplicar un plano por un vector. \\_\\_rmul\\_\\_ puede cambiar el orden de multiplicación para así llamar a \\_\\_mul\\_\\_ y retornar el resultado.\n",
    "- Líneas:\n",
    "  - ¿Tiene sentido multiplicar una recta por un escalar?: no, deberá generar una excepción.\n",
    "  - ¿Tiene sentido multiplicar una recta por un vetor?: ver la multiplicación de un vector por una recta.\n",
    "  - ¿Tiene sentido multiplicar una recta por otra recta o por un plano?: sí, tiene sentido si lo que se multiplican son sus vectores directores. Debe devolver un vector.\n",
    "- Planos:\n",
    "  - ¿Tiene sentido multiplicar un plano por un escalar?: no, deberá generar una excepción.\n",
    "  - ¿Tiene sentido multiplicar un plano por un vetor?: ver la multiplicación de un vector por un plano.\n",
    "  - ¿Tiene sentido multiplicar una plano por una recta o por otro plano?: sí, tiene sentido si lo que se multiplican son sus vectores directores. Debe devolver un vector.\n",
    "\n",
    "En este caso y dependiendo las herencias que hayas definido la implementación de \\_\\_mul\\_\\_ y \\_\\_rmul\\_\\_ dependerá de las herencias que hayas definido y decisiones de diseño que debes tomar.\n",
    "\n",
    "\n",
    "## La divisioón (\\_\\_div\\_\\_ y \\_\\_rdiv\\_\\_):\n",
    "\n",
    "La división no tiene sentido en ningún caso salvo en el caso de que se divida por un escalar y por tanto no hay que devinir nada más que \\_\\_div\\_\\_. Además no tiene sentido dividir un punto por un escalar y en el caso de las rectas y planos debe dividirse el vector director y retornar el vector resultante.\n",
    "\n",
    "## El módulo mod (\\_\\_abs\\_\\)\n",
    "\n",
    "Sólo tiene sentido calcular el módulo de un vector pero se puede aplicar también a líneas y planos haciéndolo sobre su vector director.\n",
    "\n",
    "## El operador lógico and (\\_\\_and\\_\\_)\n",
    "Este operador aplicándolo a objetos puede interpretarse como la intersección de los objetos. Evidentemente hay que implementarlo con objetos que pueden tener intersección y devolver None cuando no existe intersección. Sólo tiene sentido definirlo entre rectas, entre planos, de un plano con una recta y de una recta con un plano. En todos los casos, salvo entre rectas la devolución de None implica que son paralelos. En el caso de dos rectas la devolución de None implica que son paralelas o que se cruzan. Determina en función de la herencia que hayas definido en qué objetos tienes que implementar este método.\n",
    "    \n",
    "## El operador lógico and (\\_\\_or_\\_\\_)\n",
    "Este operador aplicándolo a objetos puede interpretarse como la unión de los objetos. Evidentemente hay que implementarlo con objetos que pueden tener unión y devolver None cuando no existe unión. Este operador puede construir objetos de esta forma:\n",
    "\n",
    "- Si opera sobre dos puntos devolverá una recta si son distintos o el propio punto si son el mismo.\n",
    "- Si opera sobre un punto y un vector devolverá una recta.\n",
    "- Si opera sobre un punto y una recta devolverá un plano o la propia recta si el punto está sobre la recta.\n",
    "- Si opera sobre un punto y un plano devolverá el propio plano en caso de que el punto esté en el plano y None en cualquier otro caso.\n",
    "- Si opera sobre dos vectores devolverá None.\n",
    "- Si opera sobre un vector y una recta devolverá la recta si el vector tiene la dirección de la recta o, en caso contrario, el plano definido por la recta y el vector. Ten en cuenta que es lo mismo que unir un punto y una recta porque con el vector y el punto de la recta puedo calcular el punto con el que hacer or fácilmente. Este tipo de simplificaciones las tienes que buscar en todas las operaciones.\n",
    "- Si opera con un vector y un plano: devolverá None\n",
    "- Si opera con una recta y un plano devolverá el propio plano si la recta está en el plano y None en el resto de los casos.\n",
    "- Si opera con dos planos: devolverá el propio plano si son coincidentes y el resto de los casos devolverá None.\n",
    "     \n",
    "   Determina en función de la herencia que hayas definido en qué objetos tienes que implementar este método.\n",
    "\n",
    "## El operador lógico == (\\_\\_eq\\_\\_)\n",
    "\n",
    "- Para puntos y vectores devolverá True sin son objetos con las mismas propiedades.  En caso contrario devolverá False. \n",
    "- Para dos rectas o dos planos devolverán True si los objetos representan el mismo plano o la misma recta. No tienen por qué tener el mismo punto que las defina ni el mismo vector director sino que el módulo del producto vectorial de sus vectores directores sea cero y un punto de uno de los objetos y esté en el otro. En caso contrario devolverá False. \n",
    "\n",
    "## El operador lógico == (\\_\\_get\\_\\_)\n",
    "\n",
    "Este método se definirá para rectas y planos para obtener el punto por el que pasan, el vector director o ambos devolviendo según corresponda los Point o Vector o una dupla con ambos.\n",
    "\n",
    "Para Point y Vector devolverá una tupla, lista o diccionario con las coordenadas según lo hayas definido.\n",
    "\n",
    "## Otros métodos\n",
    "\n",
    "Puedes definir los métodos pero creo que sólo faltaría en operador \"distance\" para los Point, Line y Rect. Tienes que tener en cuenta las posibles combinaciones de objetos.\n",
    "\n",
    "## Otras consideraciones\n",
    "\n",
    "Tienes que tener en cuenta que trabajas con números flotantes y que por tanto pueden haber pequeñs desviaciones debido a los pequeños errores de cómputo con lo cual debes evitar comparar cantidades con == sino con abs(a-b) < 1e-15 ($10^{-15}$$)"
   ]
  },
  {
   "attachments": {},
   "cell_type": "markdown",
   "metadata": {},
   "source": [
    "# Problemas\n",
    "\n",
    "Después de crear la librería debes importarla para resolver los siguientes problemas:\n",
    "\n",
    "### Ejercicio P4-1 \n",
    "Se consideran cinco puntos de coordenadas P(1,-1,2) Q(-2,2,3) R(-3,3,3) S(-3,3,0) y T(-3,4,3). Determina si forman parte del mismo plano\n"
   ]
  },
  {
   "cell_type": "code",
   "execution_count": 2,
   "metadata": {},
   "outputs": [
    {
     "name": "stdout",
     "output_type": "stream",
     "text": [
      "PQR:-1.0x + 1.0y + 0.0z + 2.0 = 0\n"
     ]
    }
   ],
   "source": [
    "from pythonp4 import *\n",
    "\n",
    "p = Point('P',(1,-1,2))\n",
    "q = Point('Q',(-2,2,3))\n",
    "r = Point('R',(-3,3,3))\n",
    "s = Point('S',(-3,3,0))\n",
    "t = Point('T',(-3,4,3))\n",
    "\n",
    "'''Para saber si varios puntos están en el mismo plano basta con crear un plnao con tres de ellos (P,Q,R), y ver si los otros dos están en ese plano'''\n",
    "#Definimos dos vectores:\n",
    "pq = Vector('PQ',None)\n",
    "pr = Vector('PR',None)\n",
    "pq.add_vector_point(p,q)\n",
    "pr.add_vector_point(p,r)\n",
    "#Creamos un plano con estos dos vectores y el punto P:\n",
    "pqr = Plane('PQR',None,None)\n",
    "pqr.add_plane_(pq,pr,p)\n",
    "pqr.imprimir('implicit')\n",
    "print(pqr)"
   ]
  },
  {
   "attachments": {},
   "cell_type": "markdown",
   "metadata": {},
   "source": [
    "\n",
    "### Ejercicio P4-2\n",
    "Comprobar que los vectores a =(1,1,3) b =(-1,2,0) y c =(1,3,5) son linealmentedependientes. Encontrar la ecuación del plano que contiene a esos vectores y al punto Q(-1,0,1).\n",
    "\n",
    "Dada la recta r determinada por los puntos A(1,1,1) y B(3,1,2) y la recta:\n",
    "\n",
    "\\begin{equation*}\n",
    "s ≡ \\biggl\\{\n",
    "      \\begin{align*}\n",
    "      x - 2z  -1 = 0\\\\\n",
    "      y - 2 = 0 \n",
    "      \\end{align*}\n",
    "\\end{equation*}\n",
    "\n",
    "averigua su posición relativa y halla, si existe, el plano que las contiene."
   ]
  },
  {
   "cell_type": "code",
   "execution_count": null,
   "metadata": {},
   "outputs": [],
   "source": []
  },
  {
   "attachments": {},
   "cell_type": "markdown",
   "metadata": {},
   "source": [
    "### Ejercicio P4-3\n",
    "\n",
    "Dados el punto P(2,1,1) y la recta \n",
    "\\begin{equation*}\n",
    "s ≡ \\Biggl\\{\n",
    "      \\begin{align*}\n",
    "      x = 2+t\\\\\n",
    "      y = 3-t \\\\\n",
    "      z = 4 -3t \n",
    "      \\end{align*}\n",
    "\\end{equation*}\n",
    "\n",
    "encuentra la ecuación del plano que contiene a ambos"
   ]
  },
  {
   "cell_type": "code",
   "execution_count": null,
   "metadata": {},
   "outputs": [],
   "source": []
  },
  {
   "attachments": {},
   "cell_type": "markdown",
   "metadata": {},
   "source": [
    "### Ejercicio P4-4\n",
    "\n",
    "Halla el punto del plano de ecuación $\\pi$ ≡ x − z = 3 que está más cerca del punto P(3,1,4), así como la distancia entre el punto P y el plano."
   ]
  },
  {
   "cell_type": "code",
   "execution_count": null,
   "metadata": {},
   "outputs": [],
   "source": []
  },
  {
   "attachments": {},
   "cell_type": "markdown",
   "metadata": {},
   "source": [
    "# Copyright\n",
    "\n",
    "$\\copyright$ Copyright 2012 Eloy Anguiano Rey - All rights reserved\n",
    "\n",
    "Queda expresamente prohibida la copia, distribución, modificación o cualquier otro uso de este documento sin permiso del autor."
   ]
  },
  {
   "attachments": {},
   "cell_type": "markdown",
   "metadata": {},
   "source": []
  }
 ],
 "metadata": {
  "kernelspec": {
   "display_name": "Python 3.8.10 64-bit",
   "language": "python",
   "name": "python3"
  },
  "language_info": {
   "codemirror_mode": {
    "name": "ipython",
    "version": 3
   },
   "file_extension": ".py",
   "mimetype": "text/x-python",
   "name": "python",
   "nbconvert_exporter": "python",
   "pygments_lexer": "ipython3",
   "version": "3.10.6"
  },
  "orig_nbformat": 4,
  "vscode": {
   "interpreter": {
    "hash": "e7370f93d1d0cde622a1f8e1c04877d8463912d04d973331ad4851f04de6915a"
   }
  }
 },
 "nbformat": 4,
 "nbformat_minor": 2
}
