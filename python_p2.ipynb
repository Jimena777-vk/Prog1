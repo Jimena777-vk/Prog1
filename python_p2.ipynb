{
 "cells": [
  {
   "cell_type": "markdown",
   "metadata": {},
   "source": [
    "# Caso de estudio: Juego de palabras\n",
    "Este tema presenta un caso de estudio, que consiste en resolver rompecabezas de palabras buscando palabras que tengan ciertas propiedades. Por ejemplo, encontraremos los palíndromos más largos en inglés y buscaremos palabras cuyas letras aparezcan en orden alfabético. Y presentaré otro plan de desarrollo de programas: la reducción a un problema previamente resuelto.\n",
    "\n",
    "## Lectura de listas de palabras\n",
    "Para los ejercicios de este tema necesitamos una lista de palabras en inglés. Hay muchas listas de palabras disponibles en la Web, pero la más adecuada para nuestro propósito es una de las listas de palabras recopiladas y contribuidas al dominio público por Grady Ward como parte del proyecto del léxico Moby (ver http://wikipedia.org/wiki/Moby_Project). Es una lista de palabras que se consideran válidas en los crucigramas y otros juegos de palabras. \n",
    "En la colección Moby, el nombre del archivo es 113809of.fic; en este curso tienes una copia con el nombre más simple de words.txt.\n",
    "\n",
    "Este archivo está en texto plano, así que puedes abrirlo con un editor de texto, pero también puedes leerlo desde Python. La función integrada open toma el nombre del archivo como parámetro y devuelve un **objeto de archivo** que puede utilizar para leer el archivo."
   ]
  },
  {
   "cell_type": "code",
   "execution_count": null,
   "metadata": {},
   "outputs": [],
   "source": [
    "f_in = open('words.txt')"
   ]
  },
  {
   "cell_type": "markdown",
   "metadata": {},
   "source": [
    "*f_in* es un nombre común para un objeto de archivo utilizado para la entrada. El objeto de archivo proporciona varios métodos de lectura, incluida la línea de lectura, que lee los caracteres del archivo hasta que llega a una nueva línea y devuelve el resultado como una cadena:"
   ]
  },
  {
   "cell_type": "code",
   "execution_count": null,
   "metadata": {},
   "outputs": [],
   "source": [
    "f_in.readline()"
   ]
  },
  {
   "cell_type": "markdown",
   "metadata": {},
   "source": [
    "La primera palabra en esta lista en particular es \"aa\", que es una especie de lava. La secuencia \\n representa un espacio en blanco, una nueva línea, que separa esta palabra de la siguiente.\n",
    "\n",
    "El objeto de archivo guarda un registro de su posición en el archivo, de modo que si vuelve a llamar a readline, obtendrá la siguiente palabra:"
   ]
  },
  {
   "cell_type": "code",
   "execution_count": null,
   "metadata": {},
   "outputs": [],
   "source": [
    "f_in.readline()"
   ]
  },
  {
   "cell_type": "markdown",
   "metadata": {},
   "source": [
    "La siguiente palabra es \"aah\", que es una palabra perfectamente legítima, así que deja de poner esa cara. O, si es el caracter de final de línea lo que te molesta, podemos deshacernos de él con en método *strip* para cadenas de caracteres:"
   ]
  },
  {
   "cell_type": "code",
   "execution_count": null,
   "metadata": {},
   "outputs": [],
   "source": [
    "line = f_in.readline()\n",
    "word = line.strip()\n",
    "word"
   ]
  },
  {
   "cell_type": "markdown",
   "metadata": {},
   "source": [
    "También puedes utilizar un objeto de archivo como parte de un bucle. Este programa lee words.txt e imprime cada palabra, una por línea:"
   ]
  },
  {
   "cell_type": "code",
   "execution_count": null,
   "metadata": {},
   "outputs": [],
   "source": [
    "f_in = open('words.txt')\n",
    "for line in f_in:\n",
    "    word = line.strip()\n",
    "    print(word)\n",
    "f_in.close()"
   ]
  },
  {
   "cell_type": "markdown",
   "metadata": {},
   "source": [
    "O mejor, separadas por espacios:"
   ]
  },
  {
   "cell_type": "code",
   "execution_count": null,
   "metadata": {},
   "outputs": [],
   "source": [
    "f_in = open('words.txt')\n",
    "for line in f_in:\n",
    "    word = line.strip()\n",
    "    print(word,end=\" \")\n",
    "f_in.close()"
   ]
  },
  {
   "cell_type": "markdown",
   "metadata": {},
   "source": [
    "Es importante que te fijes que al acabar el bucle cerramos el fichero porque ya no lo vamos a necesitar más."
   ]
  },
  {
   "cell_type": "markdown",
   "metadata": {},
   "source": [
    "## Ejercicios\n",
    "Hay soluciones para estos ejercicios en la siguiente sección. \n",
    "\n",
    "### Ejercicio P2-1.\n",
    "Escribe un programa que lea words.txt e imprima sólo las palabras con más de 20 caracteres (sin contar los espacios en blanco)."
   ]
  },
  {
   "cell_type": "code",
   "execution_count": null,
   "metadata": {},
   "outputs": [],
   "source": []
  },
  {
   "cell_type": "markdown",
   "metadata": {},
   "source": [
    "### Ejercicio P2-2.\n",
    "En 1939 Ernest Vincent Wright publicó una novela de 50.000 palabras llamada Gadsby que no contiene la letra \"e\". Puesto que \"e\" es la letra más común en inglés, no es fácil de hacer. De hecho, es difícil construir un pensamiento solitario sin usar el símbolo más común. Es un proceso lento al principio, pero con precaución y horas de entrenamiento se puede obtener gradualmente la habilidad.\n",
    "\n",
    "Escribe una función llamada _has\\_no\\_e_ que devuelve _True_ si la palabra dada no tiene la letra \"e\" en ella."
   ]
  },
  {
   "cell_type": "code",
   "execution_count": null,
   "metadata": {},
   "outputs": [],
   "source": []
  },
  {
   "cell_type": "markdown",
   "metadata": {},
   "source": [
    "Modifica tu programa de la sección anterior para imprimir sólo las palabras que no tienen \"e\" y calcula el porcentaje de las palabras de la lista que no tienen \"e\"."
   ]
  },
  {
   "cell_type": "code",
   "execution_count": null,
   "metadata": {},
   "outputs": [],
   "source": []
  },
  {
   "cell_type": "markdown",
   "metadata": {},
   "source": [
    "### Ejercicio P2-3.\n",
    "Escribe una función llamada a *avoids* que tome una palabra y una cadena de letras prohibidas, y que devuelva _True_ si la palabra no usa ninguna de las letras prohibidas."
   ]
  },
  {
   "cell_type": "code",
   "execution_count": null,
   "metadata": {},
   "outputs": [],
   "source": []
  },
  {
   "cell_type": "markdown",
   "metadata": {},
   "source": [
    "Modifica tu programa de la sección anterior para imprimir sólo las palabras que no tienen \"e\" y crea una nueva que encuentre aquellas palabras que no contienen ninguno de los caracteres de una lista prohibida. Debe devolver el porcentaje de palabras que no contienen la lista proibidad. ¿Puedes encontrar una combinación de cinco letras prohibidas que excluya el menor número de palabras?"
   ]
  },
  {
   "cell_type": "code",
   "execution_count": null,
   "metadata": {},
   "outputs": [],
   "source": []
  },
  {
   "cell_type": "markdown",
   "metadata": {},
   "source": [
    "### Ejercicio P2-4.\n",
    "\n",
    "Escribe una función llamada *uses_only* que reciba una palabra y una cadena de letras, y que devuelva _True_ si la palabra contiene sólo letras en la lista. ¿Puedes hacer una oración usando sólo las letras acefhlo? ¿Además de \"Hoe alfalfa\"?"
   ]
  },
  {
   "cell_type": "code",
   "execution_count": null,
   "metadata": {},
   "outputs": [],
   "source": []
  },
  {
   "cell_type": "markdown",
   "metadata": {},
   "source": [
    "### Ejercicio P2-5.\n",
    "\n",
    "Escribe una función llamada *uses_all* que reciba una palabra y una cadena de letras requeridas, y que devuelva _True_ si la palabra usa todas las letras requeridas al menos una vez. ¿Cuántas palabras hay que usan todas las vocales aeiou? ¿Y aeiouy?"
   ]
  },
  {
   "cell_type": "code",
   "execution_count": null,
   "metadata": {},
   "outputs": [],
   "source": []
  },
  {
   "cell_type": "markdown",
   "metadata": {},
   "source": [
    "### Ejercicio P2-6.\n",
    "Escribe una función llamada *is_abecedarian* que devuelve _True_ si las letras de una palabra aparecen en orden alfabético (las letras dobles también valen como orden alfabético). ¿Cuántas palabras abecedarias hay?"
   ]
  },
  {
   "cell_type": "code",
   "execution_count": null,
   "metadata": {},
   "outputs": [],
   "source": []
  },
  {
   "cell_type": "markdown",
   "metadata": {},
   "source": [
    "## Bucles con índices\n",
    "Vamos a crear la funcion *is_abecedarian* que indica si una determinada palabra tiene todas sus letras en orden alfabético-\n",
    "\n",
    "Para *is_abecedarian* tenemos que comparar las letras adyacentes, lo que es un poco difícil con un bucle de for:"
   ]
  },
  {
   "cell_type": "code",
   "execution_count": null,
   "metadata": {},
   "outputs": [],
   "source": [
    "def is_abecedarian(word):\n",
    "    previous = word[0]\n",
    "    for c in word:\n",
    "        if c < previous:\n",
    "            return False\n",
    "        previous = c\n",
    "    return True"
   ]
  },
  {
   "cell_type": "markdown",
   "metadata": {},
   "source": [
    "Una alternativa es utilizar la recursión:"
   ]
  },
  {
   "cell_type": "code",
   "execution_count": null,
   "metadata": {},
   "outputs": [],
   "source": [
    "def is_abecedarian(word):\n",
    "    if len(word) <= 1:\n",
    "        return True\n",
    "    if word[0] > word[1]:\n",
    "        return False\n",
    "    return is_abecedarian(word[1:])"
   ]
  },
  {
   "cell_type": "markdown",
   "metadata": {},
   "source": [
    "Otra opción es usar un bucle while:"
   ]
  },
  {
   "cell_type": "code",
   "execution_count": null,
   "metadata": {},
   "outputs": [],
   "source": [
    "def is_abecedarian(word):\n",
    "    i = 0\n",
    "    while i < len(word)-1:\n",
    "        if word[i+1] < word[i]:\n",
    "            return False\n",
    "        i = i+1\n",
    "    return True   "
   ]
  },
  {
   "cell_type": "markdown",
   "metadata": {},
   "source": [
    "El bucle comienza en i=0 y termina cuando i=len(word)-1. Cada vez que pasa por el bucle, compara el i-ésimo carácter (que se puede considerar como el carácter actual) con el i+1er carácter (que se puede considerar como el siguiente).\n",
    "\n",
    "Si el siguiente carácter es menor que (alfabéticamente antes) el actual, entonces hemos descubierto una ruptura en la tendencia abecedaria, y retornamos _False_.\n",
    "\n",
    "Si llegamos al final del bucle sin encontrar un fallo, entonces la palabra pasa la prueba. Para convencerse de que el bucle termina correctamente, considera un ejemplo como \"flossy\". La longitud de la palabra es 6, por lo que la última vez que se ejecuta el bucle es cuando i es 4, que es el índice del penúltimo carácter. En la última iteración, compara el penúltimo caracter con el último, que es lo que queremos.\n",
    "\n",
    "Aquí hay una versión de is_palindrome (ver Ejercicio P2-3) que usa dos índices: uno empieza por el principio y sube; el otro empieza por el final y baja."
   ]
  },
  {
   "cell_type": "code",
   "execution_count": null,
   "metadata": {},
   "outputs": [],
   "source": [
    "def is_palindrome(word):\n",
    "    i = 0\n",
    "    j = len(word)-1\n",
    "    while i<j:\n",
    "        if word[i] != word[j]:\n",
    "            return False\n",
    "        i = i+1\n",
    "        j = j-1\n",
    "    return True"
   ]
  },
  {
   "cell_type": "markdown",
   "metadata": {},
   "source": [
    "O podríamos reducir a un problema previamente resuelto y escribir:"
   ]
  },
  {
   "cell_type": "code",
   "execution_count": null,
   "metadata": {},
   "outputs": [],
   "source": [
    "def is_palindrome(word):\n",
    "    return is_reverse(word, word) # Tienes que copiar is_reverse del notebook anterior"
   ]
  },
  {
   "cell_type": "markdown",
   "metadata": {},
   "source": [
    "Usando is_reverse del tema anterior.\n",
    "\n",
    "## Depuración\n",
    "Probar los programas es difícil. Las funciones de este tema son relativamente fáciles de probar porque puede comprobar los resultados a mano. Aún así, está entre difícil e imposible elegir un conjunto de palabras que comprueben todos los posibles errores.\n",
    "\n",
    "Tomando _has_no_e_ como ejemplo, hay dos casos obvios para comprobar: las palabras que tienen una 'e' deberían devolver _False_, y las palabras que no deberían devolver _Ture_. No deberías tener problemas para encontrar alguna palabra de cada tipo.\n",
    "\n",
    "En cada caso, hay algunos subcasos menos obvios. Entre las palabras que tienen una \"e\", debes probar las palabras con una \"e\" al principio, al final y en algún lugar en el medio. Debes probar palabras largas, palabras cortas y palabras muy cortas, como la cadena vacía. La cadena vacía es un ejemplo de un **caso especial**, que es uno de los casos no obvios en los que a menudo se esconden errores.\n",
    "\n",
    "Además de los casos de prueba que generes, también puedes probar tu programa con una lista de palabras como words.txt. Al escanear la salida, es posible que pueda detectar errores, pero ten cuidado: puedes detectar un tipo de error (palabras que no deben incluirse, pero que lo son) y no otro (palabras que deben incluirse, pero que no lo son).\n",
    "\n",
    "En general, las pruebas pueden ayudarle a encontrar errores, pero no es fácil generar un buen conjunto de casos de prueba, e incluso si lo haces, no puedes estar seguro de que tu programa sea correcto. Según un legendario informático:\n",
    "\n",
    "Las pruebas del programa pueden ser usadas para mostrar la presencia de errores, pero nunca para mostrar su ausencia! (Edsger W. Dijkstra)\n",
    "\n",
    "## Glosario\n",
    "- *fichero objeto*: Un valor que representa un archivo abierto.\n",
    "- *reducción a un problema previamente resuelto*: Una forma de resolver un problema expresándolo como una instancia de un problema previamente resuelto.\n",
    "- *caso especial: Un caso de prueba que es atípico o no obvio (y menos probable que se maneje correctamente).\n",
    "\n",
    "## Ejercicios\n",
    "### Ejercicio P2-7.\n",
    "Esta pregunta se basa en un Puzzle que fue transmitido en el programa de radio Car Talk (http://www.cartalk.com/content/puzzlers):\n",
    "\n",
    "Este problema sólo funciona con el diccionario en inglés. Busca una palabra con tres letras dobles consecutivas. Como ejemplo te diré un par de palabras que casi lo cumplen, pero no lo hacen. Por ejemplo: \"committee',  c-o-m-m-i-t-t-e-e. Sería genial si no fuera por la \"i\" que se cuela por en medio. O Mississippi: M-i-s-s-i-s-s-i-p-p-i. Si pudieras quitar esos i's intermedios, funcionaría. Pero hay una palabra que tiene tres pares de letras consecutivos y que yo sepa, esta puede ser la única palabra. Es posible que haya 500 más, pero sólo puedo pensar en una. ¿Cuál es la palabra? Escribe un programa para encontrarla."
   ]
  },
  {
   "cell_type": "code",
   "execution_count": null,
   "metadata": {},
   "outputs": [],
   "source": []
  },
  {
   "cell_type": "markdown",
   "metadata": {},
   "source": [
    "### Ejercicio P2-8.\n",
    "Aquí hay otro Car Talk Puzzler (http://www.cartalk.com/content/puzzlers):\n",
    "\n",
    "\"El otro día estaba conduciendo por la autopista y me fijé en mi cuentakilómetros. Como la mayoría de los odómetros, muestra seis dígitos, en kilómetros enteros solamente. Así que, si mi coche tuviera 300.000 kilómetros, por ejemplo, vería 3-0-0-0-0-0.\n",
    "\n",
    "\"Lo que vi ese día fue muy interesante. Noté que los últimos 4 dígitos eran palindrómicos; es decir, se leen lo mismo hacia adelante que hacia atrás. Por ejemplo, 5-4-4-5 es un palíndromo, así que en mi cuentakilómetros podría poner 3-1-5-4-4-5.\n",
    "\n",
    "\"Un kilómetro después, los últimos 5 números eran palindrómicos. Por ejemplo, podría haber leído 3-6-5-4-5-6. Un kilómetro después de eso, los 4 números del medio de 6 eran palindrómicos. ¿Y estás listo para esto? Una kilómetro más tarde, los 6 eran palindrómicos!\n",
    "\n",
    "\"La pregunta es, ¿qué había en el odómetro cuando miré por primera vez?\" \n",
    "\n",
    "Escribe un programa Python que pruebe todos los números de seis dígitos e imprime cualquier número que satisfaga estos requisitos."
   ]
  },
  {
   "cell_type": "code",
   "execution_count": null,
   "metadata": {},
   "outputs": [],
   "source": []
  },
  {
   "cell_type": "markdown",
   "metadata": {},
   "source": [
    "### Ejercicio P2-9.\n",
    "\n",
    "Aquí hay otro rompecabezas de Car Talk que puedes resolver con una búsqueda (http://www.cartalk.com/content/puzzlers):\n",
    "\n",
    "\"Recientemente tuve una visita a mi madre y nos dimos cuenta de que los dos dígitos que componen mi edad cuando se revierte son su edad. Por ejemplo, si ella tiene 73 años, yo tengo 37. Nos preguntábamos con qué frecuencia ha ocurrido esto a lo largo de los años, pero nos desviamos con otros temas y nunca llegamos a una respuesta\".\n",
    "\n",
    "\"Cuando llegué a casa me di cuenta de que los dígitos de nuestras edades han sido reversibles seis veces hasta ahora. También me di cuenta de que si teníamos suerte, volvería a ocurrir en unos pocos años, y si teníamos mucha suerte, volvería a ocurrir una vez más. En otras palabras, habría ocurrido 8 veces en total. Así que la pregunta es, ¿cuántos años tengo ahora?\"\n",
    "\n",
    "Escribe un programa Python que busque soluciones para este Puzzle. Sugerencia: puede que encuentres útil el método de cadenas zfill."
   ]
  },
  {
   "cell_type": "code",
   "execution_count": null,
   "metadata": {},
   "outputs": [],
   "source": []
  }
 ],
 "metadata": {
  "kernelspec": {
   "display_name": "Python 3.8.10 64-bit",
   "language": "python",
   "name": "python3"
  },
  "language_info": {
   "codemirror_mode": {
    "name": "ipython",
    "version": 3
   },
   "file_extension": ".py",
   "mimetype": "text/x-python",
   "name": "python",
   "nbconvert_exporter": "python",
   "pygments_lexer": "ipython3",
   "version": "3.8.10"
  },
  "vscode": {
   "interpreter": {
    "hash": "916dbcbb3f70747c44a77c7bcd40155683ae19c65e1c03b4aa3499c5328201f1"
   }
  }
 },
 "nbformat": 4,
 "nbformat_minor": 2
}
